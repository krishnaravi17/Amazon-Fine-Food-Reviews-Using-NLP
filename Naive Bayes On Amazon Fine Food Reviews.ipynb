{
 "cells": [
  {
   "cell_type": "markdown",
   "metadata": {
    "colab_type": "text",
    "id": "KY42mpCZFZ-x"
   },
   "source": [
    "# Naive Bayes On Amazon Fine Food Reviews"
   ]
  },
  {
   "cell_type": "markdown",
   "metadata": {
    "colab_type": "text",
    "id": "0rLBg2TFl9aJ"
   },
   "source": [
    "## ***Objective***"
   ]
  },
  {
   "cell_type": "markdown",
   "metadata": {
    "colab_type": "text",
    "id": "Fa3dzRVvFZ-z"
   },
   "source": [
    "    1.Applying Naive Bayes using BernoulliNB and Multinomial NB on different featurization of data viz. \n",
    "    a)BOW\n",
    "    b)Tfidf \n",
    "\n",
    "    2.Evaluated the test data on various performance metrics like-\n",
    "    a)accuracy\n",
    "    b)precision\n",
    "    c)recall\n",
    "    d)f1 score \n",
    "    \n",
    "    3.Plotted confusion matrics using seaborne.\n",
    "\n",
    "    4.Print top 10 important features for both negative and positive reviews.\n",
    "  "
   ]
  },
  {
   "cell_type": "markdown",
   "metadata": {
    "colab_type": "text",
    "id": "3jYaj_EcuZ2K"
   },
   "source": [
    "## Imports, Exploratory Data Analysis & Pre processing"
   ]
  },
  {
   "cell_type": "code",
   "execution_count": 1,
   "metadata": {
    "colab": {},
    "colab_type": "code",
    "id": "-iYvPt0nFZ-1",
    "scrolled": true
   },
   "outputs": [],
   "source": [
    "%matplotlib inline\n",
    "import warnings\n",
    "warnings.filterwarnings(\"ignore\")\n",
    "import re\n",
    "import pandas as pd\n",
    "import numpy as np\n",
    "import nltk\n",
    "import string\n",
    "import matplotlib.pyplot as plt\n",
    "from time import time\n",
    "import random\n",
    "import gensim\n",
    "import seaborn as sns\n",
    "from sklearn.feature_extraction.text import TfidfTransformer\n",
    "from sklearn.feature_extraction.text import TfidfVectorizer\n",
    "from sklearn.feature_extraction.text import CountVectorizer\n",
    "from sklearn.metrics import confusion_matrix\n",
    "from sklearn import metrics\n",
    "from sklearn.metrics import roc_curve, auc\n",
    "from nltk.stem.porter import PorterStemmer\n",
    "#from sklearn.cross_validation import train_test_split\n",
    "from sklearn.neighbors import KNeighborsClassifier\n",
    "from sklearn.metrics import accuracy_score\n",
    "#from sklearn.cross_validation import cross_val_score\n",
    "from collections import Counter\n",
    "from sklearn.metrics import accuracy_score\n",
    "#from sklearn import cross_validation\n",
    "# metrics\n",
    "\n",
    "from sklearn.metrics import accuracy_score\n",
    "from sklearn.metrics import confusion_matrix\n",
    "from sklearn.metrics import precision_score\n",
    "from sklearn.metrics import f1_score\n",
    "from sklearn.metrics import recall_score"
   ]
  },
  {
   "cell_type": "code",
   "execution_count": 89,
   "metadata": {
    "colab": {
     "base_uri": "https://localhost:8080/",
     "height": 35
    },
    "colab_type": "code",
    "id": "pdt_6XEqWyjK",
    "outputId": "e60202b4-aa13-472e-bffc-e94a59532ba4"
   },
   "outputs": [
    {
     "name": "stdout",
     "output_type": "stream",
     "text": [
      "Drive already mounted at /content/drive; to attempt to forcibly remount, call drive.mount(\"/content/drive\", force_remount=True).\n"
     ]
    }
   ],
   "source": [
    "# Load the Drive helper and mount\n",
    "#from google.colab import drive\n",
    "\n",
    "# This will prompt for authorization.\n",
    "#drive.mount('/content/drive')"
   ]
  },
  {
   "cell_type": "code",
   "execution_count": 2,
   "metadata": {
    "colab": {
     "base_uri": "https://localhost:8080/",
     "height": 683
    },
    "colab_type": "code",
    "id": "72f7Rw5RFZ-_",
    "outputId": "7602188c-b3e5-4bdc-fe79-154c948e4ad0"
   },
   "outputs": [
    {
     "name": "stdout",
     "output_type": "stream",
     "text": [
      "(568454, 10)\n"
     ]
    },
    {
     "data": {
      "text/html": [
       "<div>\n",
       "<style scoped>\n",
       "    .dataframe tbody tr th:only-of-type {\n",
       "        vertical-align: middle;\n",
       "    }\n",
       "\n",
       "    .dataframe tbody tr th {\n",
       "        vertical-align: top;\n",
       "    }\n",
       "\n",
       "    .dataframe thead th {\n",
       "        text-align: right;\n",
       "    }\n",
       "</style>\n",
       "<table border=\"1\" class=\"dataframe\">\n",
       "  <thead>\n",
       "    <tr style=\"text-align: right;\">\n",
       "      <th></th>\n",
       "      <th>Id</th>\n",
       "      <th>ProductId</th>\n",
       "      <th>UserId</th>\n",
       "      <th>ProfileName</th>\n",
       "      <th>HelpfulnessNumerator</th>\n",
       "      <th>HelpfulnessDenominator</th>\n",
       "      <th>Score</th>\n",
       "      <th>Time</th>\n",
       "      <th>Summary</th>\n",
       "      <th>Text</th>\n",
       "    </tr>\n",
       "  </thead>\n",
       "  <tbody>\n",
       "    <tr>\n",
       "      <th>0</th>\n",
       "      <td>1</td>\n",
       "      <td>B001E4KFG0</td>\n",
       "      <td>A3SGXH7AUHU8GW</td>\n",
       "      <td>delmartian</td>\n",
       "      <td>1</td>\n",
       "      <td>1</td>\n",
       "      <td>5</td>\n",
       "      <td>1303862400</td>\n",
       "      <td>Good Quality Dog Food</td>\n",
       "      <td>I have bought several of the Vitality canned d...</td>\n",
       "    </tr>\n",
       "    <tr>\n",
       "      <th>1</th>\n",
       "      <td>2</td>\n",
       "      <td>B00813GRG4</td>\n",
       "      <td>A1D87F6ZCVE5NK</td>\n",
       "      <td>dll pa</td>\n",
       "      <td>0</td>\n",
       "      <td>0</td>\n",
       "      <td>1</td>\n",
       "      <td>1346976000</td>\n",
       "      <td>Not as Advertised</td>\n",
       "      <td>Product arrived labeled as Jumbo Salted Peanut...</td>\n",
       "    </tr>\n",
       "    <tr>\n",
       "      <th>2</th>\n",
       "      <td>3</td>\n",
       "      <td>B000LQOCH0</td>\n",
       "      <td>ABXLMWJIXXAIN</td>\n",
       "      <td>Natalia Corres \"Natalia Corres\"</td>\n",
       "      <td>1</td>\n",
       "      <td>1</td>\n",
       "      <td>4</td>\n",
       "      <td>1219017600</td>\n",
       "      <td>\"Delight\" says it all</td>\n",
       "      <td>This is a confection that has been around a fe...</td>\n",
       "    </tr>\n",
       "    <tr>\n",
       "      <th>3</th>\n",
       "      <td>4</td>\n",
       "      <td>B000UA0QIQ</td>\n",
       "      <td>A395BORC6FGVXV</td>\n",
       "      <td>Karl</td>\n",
       "      <td>3</td>\n",
       "      <td>3</td>\n",
       "      <td>2</td>\n",
       "      <td>1307923200</td>\n",
       "      <td>Cough Medicine</td>\n",
       "      <td>If you are looking for the secret ingredient i...</td>\n",
       "    </tr>\n",
       "    <tr>\n",
       "      <th>4</th>\n",
       "      <td>5</td>\n",
       "      <td>B006K2ZZ7K</td>\n",
       "      <td>A1UQRSCLF8GW1T</td>\n",
       "      <td>Michael D. Bigham \"M. Wassir\"</td>\n",
       "      <td>0</td>\n",
       "      <td>0</td>\n",
       "      <td>5</td>\n",
       "      <td>1350777600</td>\n",
       "      <td>Great taffy</td>\n",
       "      <td>Great taffy at a great price.  There was a wid...</td>\n",
       "    </tr>\n",
       "  </tbody>\n",
       "</table>\n",
       "</div>"
      ],
      "text/plain": [
       "   Id   ProductId          UserId                      ProfileName  \\\n",
       "0   1  B001E4KFG0  A3SGXH7AUHU8GW                       delmartian   \n",
       "1   2  B00813GRG4  A1D87F6ZCVE5NK                           dll pa   \n",
       "2   3  B000LQOCH0   ABXLMWJIXXAIN  Natalia Corres \"Natalia Corres\"   \n",
       "3   4  B000UA0QIQ  A395BORC6FGVXV                             Karl   \n",
       "4   5  B006K2ZZ7K  A1UQRSCLF8GW1T    Michael D. Bigham \"M. Wassir\"   \n",
       "\n",
       "   HelpfulnessNumerator  HelpfulnessDenominator  Score        Time  \\\n",
       "0                     1                       1      5  1303862400   \n",
       "1                     0                       0      1  1346976000   \n",
       "2                     1                       1      4  1219017600   \n",
       "3                     3                       3      2  1307923200   \n",
       "4                     0                       0      5  1350777600   \n",
       "\n",
       "                 Summary                                               Text  \n",
       "0  Good Quality Dog Food  I have bought several of the Vitality canned d...  \n",
       "1      Not as Advertised  Product arrived labeled as Jumbo Salted Peanut...  \n",
       "2  \"Delight\" says it all  This is a confection that has been around a fe...  \n",
       "3         Cough Medicine  If you are looking for the secret ingredient i...  \n",
       "4            Great taffy  Great taffy at a great price.  There was a wid...  "
      ]
     },
     "execution_count": 2,
     "metadata": {},
     "output_type": "execute_result"
    }
   ],
   "source": [
    "#loading from drive\n",
    "#filtered_data=pd.read_csv('/content/drive/My Drive/Colab Notebooks/Reviews.csv')\n",
    "filtered_data=pd.read_csv('Reviews.csv')#displaying\n",
    "filtered_data.head()\n",
    "\n",
    "print(filtered_data.shape) #looking at the number of attributes and size of the data\n",
    "filtered_data.head()"
   ]
  },
  {
   "cell_type": "code",
   "execution_count": 3,
   "metadata": {
    "colab": {
     "base_uri": "https://localhost:8080/",
     "height": 683
    },
    "colab_type": "code",
    "id": "ek4oE7-JFZ_G",
    "outputId": "1b456197-397e-4822-dbcc-70156210da5b"
   },
   "outputs": [
    {
     "name": "stdout",
     "output_type": "stream",
     "text": [
      "(568454, 10)\n"
     ]
    },
    {
     "data": {
      "text/html": [
       "<div>\n",
       "<style scoped>\n",
       "    .dataframe tbody tr th:only-of-type {\n",
       "        vertical-align: middle;\n",
       "    }\n",
       "\n",
       "    .dataframe tbody tr th {\n",
       "        vertical-align: top;\n",
       "    }\n",
       "\n",
       "    .dataframe thead th {\n",
       "        text-align: right;\n",
       "    }\n",
       "</style>\n",
       "<table border=\"1\" class=\"dataframe\">\n",
       "  <thead>\n",
       "    <tr style=\"text-align: right;\">\n",
       "      <th></th>\n",
       "      <th>Id</th>\n",
       "      <th>ProductId</th>\n",
       "      <th>UserId</th>\n",
       "      <th>ProfileName</th>\n",
       "      <th>HelpfulnessNumerator</th>\n",
       "      <th>HelpfulnessDenominator</th>\n",
       "      <th>Score</th>\n",
       "      <th>Time</th>\n",
       "      <th>Summary</th>\n",
       "      <th>Text</th>\n",
       "    </tr>\n",
       "  </thead>\n",
       "  <tbody>\n",
       "    <tr>\n",
       "      <th>0</th>\n",
       "      <td>1</td>\n",
       "      <td>B001E4KFG0</td>\n",
       "      <td>A3SGXH7AUHU8GW</td>\n",
       "      <td>delmartian</td>\n",
       "      <td>1</td>\n",
       "      <td>1</td>\n",
       "      <td>1</td>\n",
       "      <td>1303862400</td>\n",
       "      <td>Good Quality Dog Food</td>\n",
       "      <td>I have bought several of the Vitality canned d...</td>\n",
       "    </tr>\n",
       "    <tr>\n",
       "      <th>1</th>\n",
       "      <td>2</td>\n",
       "      <td>B00813GRG4</td>\n",
       "      <td>A1D87F6ZCVE5NK</td>\n",
       "      <td>dll pa</td>\n",
       "      <td>0</td>\n",
       "      <td>0</td>\n",
       "      <td>0</td>\n",
       "      <td>1346976000</td>\n",
       "      <td>Not as Advertised</td>\n",
       "      <td>Product arrived labeled as Jumbo Salted Peanut...</td>\n",
       "    </tr>\n",
       "    <tr>\n",
       "      <th>2</th>\n",
       "      <td>3</td>\n",
       "      <td>B000LQOCH0</td>\n",
       "      <td>ABXLMWJIXXAIN</td>\n",
       "      <td>Natalia Corres \"Natalia Corres\"</td>\n",
       "      <td>1</td>\n",
       "      <td>1</td>\n",
       "      <td>1</td>\n",
       "      <td>1219017600</td>\n",
       "      <td>\"Delight\" says it all</td>\n",
       "      <td>This is a confection that has been around a fe...</td>\n",
       "    </tr>\n",
       "    <tr>\n",
       "      <th>3</th>\n",
       "      <td>4</td>\n",
       "      <td>B000UA0QIQ</td>\n",
       "      <td>A395BORC6FGVXV</td>\n",
       "      <td>Karl</td>\n",
       "      <td>3</td>\n",
       "      <td>3</td>\n",
       "      <td>0</td>\n",
       "      <td>1307923200</td>\n",
       "      <td>Cough Medicine</td>\n",
       "      <td>If you are looking for the secret ingredient i...</td>\n",
       "    </tr>\n",
       "    <tr>\n",
       "      <th>4</th>\n",
       "      <td>5</td>\n",
       "      <td>B006K2ZZ7K</td>\n",
       "      <td>A1UQRSCLF8GW1T</td>\n",
       "      <td>Michael D. Bigham \"M. Wassir\"</td>\n",
       "      <td>0</td>\n",
       "      <td>0</td>\n",
       "      <td>1</td>\n",
       "      <td>1350777600</td>\n",
       "      <td>Great taffy</td>\n",
       "      <td>Great taffy at a great price.  There was a wid...</td>\n",
       "    </tr>\n",
       "  </tbody>\n",
       "</table>\n",
       "</div>"
      ],
      "text/plain": [
       "   Id   ProductId          UserId                      ProfileName  \\\n",
       "0   1  B001E4KFG0  A3SGXH7AUHU8GW                       delmartian   \n",
       "1   2  B00813GRG4  A1D87F6ZCVE5NK                           dll pa   \n",
       "2   3  B000LQOCH0   ABXLMWJIXXAIN  Natalia Corres \"Natalia Corres\"   \n",
       "3   4  B000UA0QIQ  A395BORC6FGVXV                             Karl   \n",
       "4   5  B006K2ZZ7K  A1UQRSCLF8GW1T    Michael D. Bigham \"M. Wassir\"   \n",
       "\n",
       "   HelpfulnessNumerator  HelpfulnessDenominator  Score        Time  \\\n",
       "0                     1                       1      1  1303862400   \n",
       "1                     0                       0      0  1346976000   \n",
       "2                     1                       1      1  1219017600   \n",
       "3                     3                       3      0  1307923200   \n",
       "4                     0                       0      1  1350777600   \n",
       "\n",
       "                 Summary                                               Text  \n",
       "0  Good Quality Dog Food  I have bought several of the Vitality canned d...  \n",
       "1      Not as Advertised  Product arrived labeled as Jumbo Salted Peanut...  \n",
       "2  \"Delight\" says it all  This is a confection that has been around a fe...  \n",
       "3         Cough Medicine  If you are looking for the secret ingredient i...  \n",
       "4            Great taffy  Great taffy at a great price.  There was a wid...  "
      ]
     },
     "execution_count": 3,
     "metadata": {},
     "output_type": "execute_result"
    }
   ],
   "source": [
    "#For setting positive/negative \n",
    "#filtered_data=pd.read_csv('Reviews.csv')\n",
    "def partition(x):\n",
    "    if x < 3:\n",
    "        return 0\n",
    "    return 1\n",
    "#changing reviews with score less than 3 to be positive and vice-versa\n",
    "actualScore = filtered_data['Score']\n",
    "#pdb.set_trace()\n",
    "positiveNegative = actualScore.map(partition) \n",
    "#pdb.set_trace()\n",
    "filtered_data['Score'] = positiveNegative\n",
    "#print(filtered_data.head())#print 5 row \n",
    "print(filtered_data.shape) #looking at the number of attributes and size of the data\n",
    "filtered_data.head()"
   ]
  },
  {
   "cell_type": "code",
   "execution_count": 4,
   "metadata": {
    "colab": {},
    "colab_type": "code",
    "id": "e-bggAvlFZ_L"
   },
   "outputs": [],
   "source": [
    "#Sorting data according to ProductId in ascending order\n",
    "sorted_data=filtered_data.sort_values('ProductId', axis=0, ascending=True,)"
   ]
  },
  {
   "cell_type": "code",
   "execution_count": 5,
   "metadata": {
    "colab": {
     "base_uri": "https://localhost:8080/",
     "height": 35
    },
    "colab_type": "code",
    "id": "niBQAY9eFZ_Q",
    "outputId": "26e572e6-72f5-408f-9747-72e58b3836d1"
   },
   "outputs": [
    {
     "name": "stdout",
     "output_type": "stream",
     "text": [
      "(568452, 10)\n"
     ]
    }
   ],
   "source": [
    "sorted_data=sorted_data[sorted_data.HelpfulnessNumerator<=sorted_data.HelpfulnessDenominator]\n",
    "print(sorted_data.shape)"
   ]
  },
  {
   "cell_type": "code",
   "execution_count": 6,
   "metadata": {
    "colab": {
     "base_uri": "https://localhost:8080/",
     "height": 108
    },
    "colab_type": "code",
    "id": "1OmOmh4pFZ_V",
    "outputId": "7e0ed02b-f72c-415b-9b4b-b14544eb6226"
   },
   "outputs": [
    {
     "name": "stdout",
     "output_type": "stream",
     "text": [
      "(393931, 10)\n",
      "69.29865917031105\n"
     ]
    },
    {
     "data": {
      "text/plain": [
       "1    336824\n",
       "0     57107\n",
       "Name: Score, dtype: int64"
      ]
     },
     "execution_count": 6,
     "metadata": {},
     "output_type": "execute_result"
    }
   ],
   "source": [
    "#De-duplication of entries\n",
    "final=sorted_data.drop_duplicates(subset={\"UserId\",\"ProfileName\",\"Time\",\"Text\"}, keep='first', inplace=False)\n",
    "\n",
    "print(final.shape)#shape\n",
    "\n",
    "print((final['Id'].size*1.0)/(filtered_data['Id'].size*1.0)*100)#percentage\n",
    "\n",
    "#get to know how much posive negative there in table\n",
    "final['Score'].value_counts()"
   ]
  },
  {
   "cell_type": "code",
   "execution_count": 7,
   "metadata": {
    "colab": {
     "base_uri": "https://localhost:8080/",
     "height": 512
    },
    "colab_type": "code",
    "id": "8-AAr1umFZ_b",
    "outputId": "897e7d99-24b3-473c-f55a-4516ea01a7e1"
   },
   "outputs": [
    {
     "data": {
      "text/html": [
       "<div>\n",
       "<style scoped>\n",
       "    .dataframe tbody tr th:only-of-type {\n",
       "        vertical-align: middle;\n",
       "    }\n",
       "\n",
       "    .dataframe tbody tr th {\n",
       "        vertical-align: top;\n",
       "    }\n",
       "\n",
       "    .dataframe thead th {\n",
       "        text-align: right;\n",
       "    }\n",
       "</style>\n",
       "<table border=\"1\" class=\"dataframe\">\n",
       "  <thead>\n",
       "    <tr style=\"text-align: right;\">\n",
       "      <th></th>\n",
       "      <th>Id</th>\n",
       "      <th>ProductId</th>\n",
       "      <th>UserId</th>\n",
       "      <th>ProfileName</th>\n",
       "      <th>HelpfulnessNumerator</th>\n",
       "      <th>HelpfulnessDenominator</th>\n",
       "      <th>Score</th>\n",
       "      <th>Time</th>\n",
       "      <th>Summary</th>\n",
       "      <th>Text</th>\n",
       "    </tr>\n",
       "  </thead>\n",
       "  <tbody>\n",
       "    <tr>\n",
       "      <th>374358</th>\n",
       "      <td>374359</td>\n",
       "      <td>B00004CI84</td>\n",
       "      <td>A344SMIA5JECGM</td>\n",
       "      <td>Vincent P. Ross</td>\n",
       "      <td>1</td>\n",
       "      <td>2</td>\n",
       "      <td>1</td>\n",
       "      <td>944438400</td>\n",
       "      <td>A modern day fairy tale</td>\n",
       "      <td>A twist of rumplestiskin captured on film, sta...</td>\n",
       "    </tr>\n",
       "    <tr>\n",
       "      <th>374399</th>\n",
       "      <td>374400</td>\n",
       "      <td>B00004CI84</td>\n",
       "      <td>A2DEE7F9XKP3ZR</td>\n",
       "      <td>jerome</td>\n",
       "      <td>0</td>\n",
       "      <td>3</td>\n",
       "      <td>1</td>\n",
       "      <td>959990400</td>\n",
       "      <td>Research - Beatlejuice video - French version</td>\n",
       "      <td>I'm getting crazy.I'm looking for Beatlejuice ...</td>\n",
       "    </tr>\n",
       "    <tr>\n",
       "      <th>131216</th>\n",
       "      <td>131217</td>\n",
       "      <td>B00004RAMX</td>\n",
       "      <td>A5NQLNC6QPGSI</td>\n",
       "      <td>Kim Nason</td>\n",
       "      <td>7</td>\n",
       "      <td>8</td>\n",
       "      <td>1</td>\n",
       "      <td>965001600</td>\n",
       "      <td>End your Gopher Problems</td>\n",
       "      <td>I have just recently purchased the Woodstream ...</td>\n",
       "    </tr>\n",
       "    <tr>\n",
       "      <th>374420</th>\n",
       "      <td>374421</td>\n",
       "      <td>B00004CI84</td>\n",
       "      <td>A1FJOY14X3MUHE</td>\n",
       "      <td>Justin Howard</td>\n",
       "      <td>2</td>\n",
       "      <td>2</td>\n",
       "      <td>1</td>\n",
       "      <td>966297600</td>\n",
       "      <td>A fresh, original film from master storyteller...</td>\n",
       "      <td>This is such a great film, I don't even know h...</td>\n",
       "    </tr>\n",
       "    <tr>\n",
       "      <th>374382</th>\n",
       "      <td>374383</td>\n",
       "      <td>B00004CI84</td>\n",
       "      <td>A34NBH479RB0E</td>\n",
       "      <td>\"dmab6395\"</td>\n",
       "      <td>0</td>\n",
       "      <td>1</td>\n",
       "      <td>1</td>\n",
       "      <td>977184000</td>\n",
       "      <td>FUNNY</td>\n",
       "      <td>I THOUGHT THIS MOVIE WAS SO FUNNY, MICHAEL KEA...</td>\n",
       "    </tr>\n",
       "  </tbody>\n",
       "</table>\n",
       "</div>"
      ],
      "text/plain": [
       "            Id   ProductId          UserId      ProfileName  \\\n",
       "374358  374359  B00004CI84  A344SMIA5JECGM  Vincent P. Ross   \n",
       "374399  374400  B00004CI84  A2DEE7F9XKP3ZR           jerome   \n",
       "131216  131217  B00004RAMX   A5NQLNC6QPGSI        Kim Nason   \n",
       "374420  374421  B00004CI84  A1FJOY14X3MUHE    Justin Howard   \n",
       "374382  374383  B00004CI84   A34NBH479RB0E       \"dmab6395\"   \n",
       "\n",
       "        HelpfulnessNumerator  HelpfulnessDenominator  Score       Time  \\\n",
       "374358                     1                       2      1  944438400   \n",
       "374399                     0                       3      1  959990400   \n",
       "131216                     7                       8      1  965001600   \n",
       "374420                     2                       2      1  966297600   \n",
       "374382                     0                       1      1  977184000   \n",
       "\n",
       "                                                  Summary  \\\n",
       "374358                            A modern day fairy tale   \n",
       "374399      Research - Beatlejuice video - French version   \n",
       "131216                           End your Gopher Problems   \n",
       "374420  A fresh, original film from master storyteller...   \n",
       "374382                                              FUNNY   \n",
       "\n",
       "                                                     Text  \n",
       "374358  A twist of rumplestiskin captured on film, sta...  \n",
       "374399  I'm getting crazy.I'm looking for Beatlejuice ...  \n",
       "131216  I have just recently purchased the Woodstream ...  \n",
       "374420  This is such a great film, I don't even know h...  \n",
       "374382  I THOUGHT THIS MOVIE WAS SO FUNNY, MICHAEL KEA...  "
      ]
     },
     "execution_count": 7,
     "metadata": {},
     "output_type": "execute_result"
    }
   ],
   "source": [
    "###Sorting as we want according to time series\n",
    "\n",
    "n_samples = 100000\n",
    "df_sample = final.sample(n_samples)\n",
    "\n",
    "df_sample.sort_values('Time',inplace=True)\n",
    "df_sample.head(5)"
   ]
  },
  {
   "cell_type": "code",
   "execution_count": 8,
   "metadata": {
    "colab": {
     "base_uri": "https://localhost:8080/",
     "height": 110
    },
    "colab_type": "code",
    "id": "3-lvXLtVFZ_g",
    "outputId": "9128ed00-674f-4faf-99ad-6e9d8143b06b"
   },
   "outputs": [
    {
     "name": "stdout",
     "output_type": "stream",
     "text": [
      "[nltk_data] Downloading package stopwords to C:\\Users\\Ravi\n",
      "[nltk_data]     Krishna\\AppData\\Roaming\\nltk_data...\n",
      "[nltk_data]   Package stopwords is already up-to-date!\n",
      "0\n",
      "In June<br />I saw a charming group<br />of roses all begin<br />to droop<br />I pepped them up<br />with chicken soup!<br />Sprinkle once<br />sprinkle twice<br />sprinkle chicken soup<br />with rice<br /><br />This is a great book to teach children the months of the year. The repetition of the phrases and the funny little stories with accompanying pictures make for an ideal bedtime read. This isn't nearly as good as some of Sendak's other books (like Where the Wild Things are or Pierre: The Boy Who Didn't Care), but it still carries his unique brand of charm.\n"
     ]
    }
   ],
   "source": [
    "import nltk\n",
    "from nltk.corpus import stopwords\n",
    "nltk.download('stopwords')\n",
    "stopwords = stopwords.words('english')#choosen the english language\n",
    "\n",
    "from nltk.corpus import stopwords\n",
    "from nltk.stem import PorterStemmer\n",
    "from nltk.stem.wordnet import WordNetLemmatizer\n",
    "from nltk.stem import PorterStemmer,SnowballStemmer\n",
    "\n",
    "stop = set(stopwords.words('english')) #set of stopwords\n",
    "porter = PorterStemmer()\n",
    "snowball = SnowballStemmer('english')\n",
    "#Text Preprocessing: Stemming, stop-word removal and Lemmatization\n",
    "# find sentences containing HTML tags\n",
    "import re#regular expression\n",
    "\n",
    "i=0;\n",
    "for sent in final['Text'].values:\n",
    "    if (len(re.findall('<.*?>', sent))):\n",
    "        print(i)\n",
    "        print(sent)\n",
    "        break;\n",
    "    i += 1;\n",
    "\n"
   ]
  },
  {
   "cell_type": "code",
   "execution_count": 9,
   "metadata": {
    "colab": {},
    "colab_type": "code",
    "id": "xUvJcEXHFZ_m"
   },
   "outputs": [],
   "source": [
    "#Code for implementing step-by-step the checks mentioned in the pre-processing phase\n",
    "# this code takes a while to run as it needs to run on 500k sentences.\n",
    "i=0\n",
    "str1=' '\n",
    "final_string=[]\n",
    "all_positive_words=[] # store words from +ve reviews here\n",
    "all_negative_words=[] # store words from -ve reviews here.\n",
    "s=''\n",
    "\n",
    "final_100000 = df_sample.head(100000)#taking 100000 datapoints\n",
    "\n",
    "def cleanhtml(sentence): \n",
    "    cleanr = re.compile('<.*?>')\n",
    "    cleantext = re.sub(cleanr, ' ', sentence)\n",
    "    return cleantext\n",
    "\n",
    "def cleanpunc(sentence): \n",
    "    cleaned = re.sub(r'[?|!|\\'|\"|#]',r'',sentence)\n",
    "    cleaned = re.sub(r'[.|,|)|(|\\|/]',r' ',cleaned)\n",
    "    return cleaned\n",
    "\n",
    "    str1=[];\n",
    "\n",
    "for sent in final_100000['Text'].values:\n",
    "    filtered_sentence=[]\n",
    "    #print(sent);\n",
    "    sent=cleanhtml(sent) # remove HTMl tags\n",
    "    sent=cleanpunc(sent) \n",
    "    for w in sent.split():\n",
    "        for cleaned_words in cleanpunc(w).split():\n",
    "            if((cleaned_words.isalpha()) & (len(cleaned_words)>2)):    \n",
    "                if(cleaned_words.lower() not in stop):\n",
    "                    s=(snowball.stem(cleaned_words.lower())).encode('utf8')\n",
    "                    filtered_sentence.append(s)\n",
    "                    if (final_100000['Score'].values)[i] == 'positive': \n",
    "                        all_positive_words.append(s) #list of all words used to describe positive reviews\n",
    "                    if(final_100000['Score'].values)[i] == 'negative':\n",
    "                        all_negative_words.append(s) #list of all words used to describe negative reviews reviews\n",
    "                else:\n",
    "                    continue\n",
    "            else:\n",
    "                continue \n",
    "    #print(filtered_sentence)\n",
    "    #str1 =b\" \".join(filtered_sentence) #final string of cleaned words\n",
    "    str1 =b' '.join(filtered_sentence).decode()\n",
    "    #print(\"***********************************************************************\")\n",
    "    \n",
    "    final_string.append(str1)\n",
    "    i+=1"
   ]
  },
  {
   "cell_type": "code",
   "execution_count": 10,
   "metadata": {
    "colab": {
     "base_uri": "https://localhost:8080/",
     "height": 35
    },
    "colab_type": "code",
    "id": "fGqDt0mHFZ_q",
    "outputId": "6ee4f2d2-88ca-4bf0-cc5b-663d18f93062"
   },
   "outputs": [
    {
     "name": "stdout",
     "output_type": "stream",
     "text": [
      "(100000, 11)\n"
     ]
    }
   ],
   "source": [
    "#adding a column of CleanedText which displays the data after pre-processing of the review \n",
    "final_100000['clean_text']=final_string\n",
    "print(final_100000.shape)"
   ]
  },
  {
   "cell_type": "code",
   "execution_count": 26,
   "metadata": {
    "colab": {},
    "colab_type": "code",
    "id": "BrTp2HAfbkfD"
   },
   "outputs": [],
   "source": [
    "def plot_graph(gsv): #graph function\n",
    "\n",
    "    x=[]\n",
    "    y=[]\n",
    "    for a in gsv.grid_scores_:\n",
    "        x.append(a[0]['alpha']) \n",
    "        y.append(a[1])\n",
    "\n",
    "    plt.xlim(-10,1000)\n",
    "    plt.ylim(0.8,0.9)\n",
    "    plt.xlabel(r\"$\\alpha$\",fontsize=15)\n",
    "    plt.ylabel(\"accuracy\")\n",
    "    plt.title(r'Accuracy v/s $\\alpha$')\n",
    "    plt.plot(x,y)\n",
    "    plt.show()\n",
    "    "
   ]
  },
  {
   "cell_type": "code",
   "execution_count": 12,
   "metadata": {
    "colab": {},
    "colab_type": "code",
    "id": "njTYkimWgYS0"
   },
   "outputs": [],
   "source": [
    "#feature importance method 1\n",
    "def show_most_informative_features(vectorizer, clf, n=100):\n",
    "    feature_names = vectorizer.get_feature_names()\n",
    "    coefs_with_fns = sorted(zip(clf.coef_[0], feature_names))\n",
    "    top = zip(coefs_with_fns[:n], coefs_with_fns[:-(n + 1):-1])\n",
    "    print(\"\\t\\t\\tPositive\\t\\t\\t\\t\\t\\tNegative\")\n",
    "    print(\"________________________________________________________________________________________________\")\n",
    "    for (coef_1, fn_1), (coef_2, fn_2) in top:\n",
    "        print(\"\\t%.4f\\t%-15s\\t\\t\\t\\t%.4f\\t%-15s\" % (coef_1, fn_1, coef_2, fn_2))\n",
    "        \n",
    "#Code Reference:https://stackoverflow.com/questions/11116697/how-to-get-most-informative-features-for-scikit-learn-classifiers\n"
   ]
  },
  {
   "cell_type": "code",
   "execution_count": 15,
   "metadata": {
    "colab": {},
    "colab_type": "code",
    "id": "yIir-DpRHwlM"
   },
   "outputs": [],
   "source": [
    "#feature importance method 2\n",
    "#Code Reference:https://stackoverflow.com/questions/11116697/how-to-get-most-informative-features-for-scikit-learn-classifiers\n",
    "def important_features(vectorizer,classifier,n=10):\n",
    "    class_labels = classifier.classes_\n",
    "    feature_names =vectorizer.get_feature_names()\n",
    "    topn_class1 = sorted(zip(classifier.feature_count_[0], feature_names),reverse=True)[:n]\n",
    "    topn_class2 = sorted(zip(classifier.feature_count_[1], feature_names),reverse=True)[:n]\n",
    "    print(\"Important words in negative reviews\")\n",
    "    print(\"ClassLabel\\tFeatureCount\\tFeatureName\")\n",
    "    for coef, feat in topn_class1:\n",
    "        print(\"\\t\",class_labels[0],\"\\t\", coef,\"\\t\", feat) \n",
    "    print(\"-----------------------------------------\")\n",
    "    print(\"Important words in positive reviews\")\n",
    "    print(\"ClassLabel\\tFeatureCount\\tFeatureName\")\n",
    "    for coef, feat in topn_class2:\n",
    "        print(\"\\t\",class_labels[1],\"\\t\", coef,\"\\t\", feat)  \n"
   ]
  },
  {
   "cell_type": "code",
   "execution_count": 16,
   "metadata": {
    "colab": {},
    "colab_type": "code",
    "id": "uM57TFsDUbIY"
   },
   "outputs": [],
   "source": [
    "#feature importance method 3\n",
    "#finding the top n negative/positive class words\n",
    "def FEATURE_IMPORTANCE(vect,clf,n,pos_neg,text):\n",
    "\n",
    "    f_imp=clf.feature_log_prob_[pos_neg].argsort()[-n:]\n",
    "    sort=np.sort(clf.feature_log_prob_[pos_neg])[-n:]\n",
    "    print('top 10 frequent words occur in', text ,' class and their log_prob--')\n",
    "    for i in range(n):\n",
    "        print(np.take(vect.get_feature_names(),f_imp[i]),\" : \",sort[i])"
   ]
  },
  {
   "cell_type": "markdown",
   "metadata": {
    "colab_type": "text",
    "id": "0OELwaZmuedi"
   },
   "source": [
    "## Apply Naive Bayes on BOW"
   ]
  },
  {
   "cell_type": "markdown",
   "metadata": {
    "colab_type": "text",
    "id": "FHIVfPMmFZ_v"
   },
   "source": [
    "### Applying Naive Bayes"
   ]
  },
  {
   "cell_type": "code",
   "execution_count": 17,
   "metadata": {
    "colab": {},
    "colab_type": "code",
    "id": "gGkFXnbwFZ_x"
   },
   "outputs": [],
   "source": [
    "from sklearn.model_selection import train_test_split\n",
    "\n",
    "from sklearn import preprocessing\n",
    "X_train, X_test, y_train, y_test = train_test_split(final_100000['clean_text'].values,\n",
    "                                                    final_100000['Score'].values ,test_size=0.30,shuffle=False)"
   ]
  },
  {
   "cell_type": "code",
   "execution_count": 18,
   "metadata": {
    "colab": {
     "base_uri": "https://localhost:8080/",
     "height": 54
    },
    "colab_type": "code",
    "id": "d2wXmiRAFZ_2",
    "outputId": "931d8471-63fd-49dc-cbf2-a5b9a4967a7f"
   },
   "outputs": [
    {
     "name": "stdout",
     "output_type": "stream",
     "text": [
      "Train Data Size:  (70000, 32047)\n",
      "Test Data Size:  (30000, 32047)\n"
     ]
    }
   ],
   "source": [
    "#Text -> Uni gram Vectors\n",
    "\n",
    "uni_gram = CountVectorizer()\n",
    "X_train = uni_gram.fit_transform(X_train)\n",
    "\n",
    "#Normalize Data\n",
    "\n",
    "X_train = preprocessing.normalize(X_train)\n",
    "print(\"Train Data Size: \",X_train.shape)\n",
    "X_test = uni_gram.transform(X_test)\n",
    "\n",
    "#Normalize Data\n",
    "\n",
    "X_test = preprocessing.normalize(X_test)\n",
    "print(\"Test Data Size: \",X_test.shape)"
   ]
  },
  {
   "cell_type": "code",
   "execution_count": 19,
   "metadata": {
    "colab": {
     "base_uri": "https://localhost:8080/",
     "height": 199
    },
    "colab_type": "code",
    "id": "t15pGwwtFZ_9",
    "outputId": "a3acccd7-dbe4-451c-9f87-6b4c57231414"
   },
   "outputs": [
    {
     "name": "stdout",
     "output_type": "stream",
     "text": [
      "(6370, 32047) (6363, 32047)\n",
      "(12733, 32047) (6363, 32047)\n",
      "(19096, 32047) (6363, 32047)\n",
      "(25459, 32047) (6363, 32047)\n",
      "(31822, 32047) (6363, 32047)\n",
      "(38185, 32047) (6363, 32047)\n",
      "(44548, 32047) (6363, 32047)\n",
      "(50911, 32047) (6363, 32047)\n",
      "(57274, 32047) (6363, 32047)\n",
      "(63637, 32047) (6363, 32047)\n"
     ]
    }
   ],
   "source": [
    "from sklearn.model_selection import TimeSeriesSplit\n",
    "\n",
    "tscv = TimeSeriesSplit(n_splits=10)\n",
    "for train, cv in tscv.split(X_train):\n",
    "\n",
    "    # print(\"%s %s\" % (train, cv))\n",
    "    print(X_train[train].shape, X_train[cv].shape)"
   ]
  },
  {
   "cell_type": "code",
   "execution_count": 20,
   "metadata": {
    "colab": {
     "base_uri": "https://localhost:8080/",
     "height": 90
    },
    "colab_type": "code",
    "id": "WxixjvqaFaAE",
    "outputId": "2971a128-085c-4424-fe23-f0dda0b1f6ff"
   },
   "outputs": [
    {
     "name": "stdout",
     "output_type": "stream",
     "text": [
      "Best HyperParameter:  {'alpha': 0.005}\n",
      "Best Accuracy: 88.32%\n",
      "Wall time: 23.3 s\n"
     ]
    }
   ],
   "source": [
    "%%time\n",
    "from sklearn.model_selection import GridSearchCV # Finding the best \"Alpha\" using forward chaining cross validation\n",
    "from sklearn.naive_bayes import BernoulliNB\n",
    "\n",
    "bnb = BernoulliNB()\n",
    "param_grid ={'alpha':[1000,500,100,50,10,5,1,0.5,0.1,0.05,0.01,0.005,0.001,0.0005,0.0001]} #params we need to try on classifier\n",
    "\n",
    "tscv = TimeSeriesSplit(n_splits=10) #For time based splitting\n",
    "\n",
    "grid = GridSearchCV(bnb, param_grid, cv=10, scoring='accuracy', return_train_score=False)# instantiate the grid\n",
    "grid.fit(X_train,y_train)\n",
    "\n",
    "print(\"Best HyperParameter: \",grid.best_params_)\n",
    "print(\"Best Accuracy: %.2f%%\"%(grid.best_score_*100))\n"
   ]
  },
  {
   "cell_type": "code",
   "execution_count": 27,
   "metadata": {
    "colab": {
     "base_uri": "https://localhost:8080/",
     "height": 244
    },
    "colab_type": "code",
    "id": "nP9UmB4rFaAK",
    "outputId": "fd4b642c-44e8-4c2f-910c-7bddbc0566ad"
   },
   "outputs": [
    {
     "name": "stderr",
     "output_type": "stream",
     "text": [
      "E:\\Anaconda\\lib\\site-packages\\sklearn\\model_selection\\_search.py:761: DeprecationWarning: The grid_scores_ attribute was deprecated in version 0.18 in favor of the more elaborate cv_results_ attribute. The grid_scores_ attribute will not be available from 0.20\n",
      "  DeprecationWarning)\n"
     ]
    },
    {
     "data": {
      "image/png": "[encoded data removed]",
      "text/plain": [
       "<Figure size 432x288 with 1 Axes>"
      ]
     },
     "metadata": {},
     "output_type": "display_data"
    }
   ],
   "source": [
    "plot_graph(grid)"
   ]
  },
  {
   "cell_type": "code",
   "execution_count": 28,
   "metadata": {
    "colab": {
     "base_uri": "https://localhost:8080/",
     "height": 533
    },
    "colab_type": "code",
    "id": "oeBR5B6uFaAQ",
    "outputId": "c5e01957-3673-4c1a-dd6b-935b29c4d774"
   },
   "outputs": [
    {
     "name": "stdout",
     "output_type": "stream",
     "text": [
      "Accuracy on test set: 87.233%\n",
      "Precision_score on test set: 91.530%\n",
      "Recall_score on test set: 93.402%\n",
      "F1_score on test set: 92.456%\n",
      "Confusion Matrix of test set:\n",
      " [ [TN  FN]\n",
      "   [FP  TP] ]\n",
      "\n",
      "Wall time: 833 ms\n"
     ]
    },
    {
     "data": {
      "image/png": "[encoded data removed]",
      "text/plain": [
       "<Figure size 432x288 with 2 Axes>"
      ]
     },
     "metadata": {},
     "output_type": "display_data"
    }
   ],
   "source": [
    "%%time\n",
    "# Testing Accuracy on Test data\n",
    "from sklearn.naive_bayes import BernoulliNB\n",
    "from sklearn.metrics import precision_score\n",
    "from sklearn.metrics import recall_score\n",
    "from sklearn.metrics import f1_score\n",
    "from sklearn.metrics import confusion_matrix\n",
    "\n",
    "bnb = BernoulliNB(alpha=0.005)\n",
    "bnb.fit(X_train,y_train)\n",
    "y_pred = bnb.predict(X_test)\n",
    "\n",
    "print(\"Accuracy on test set: %0.3f%%\"%(accuracy_score(y_test, y_pred)*100))\n",
    "print(\"Precision_score on test set: %0.3f%%\"%(precision_score(y_test, y_pred)*100))\n",
    "print(\"Recall_score on test set: %0.3f%%\"%(recall_score(y_test, y_pred)*100))\n",
    "print(\"F1_score on test set: %0.3f%%\"%(f1_score(y_test, y_pred)*100))\n",
    "\n",
    "print(\"Confusion Matrix of test set:\\n [ [TN  FN]\\n   [FP  TP] ]\\n\")\n",
    "\n",
    "df_cm = confusion_matrix(y_test, y_pred)\n",
    "sns.set(font_scale=1.5) #for label size                     \n",
    "sns.heatmap(df_cm, annot=True,annot_kws={\"size\": 16}, fmt='g',linewidths=.5)"
   ]
  },
  {
   "cell_type": "markdown",
   "metadata": {
    "colab_type": "text",
    "id": "NcwK6P8ZgJ2S"
   },
   "source": [
    "#### Feature Importance on Navie Bays (BOW)"
   ]
  },
  {
   "cell_type": "code",
   "execution_count": 29,
   "metadata": {
    "colab": {
     "base_uri": "https://localhost:8080/",
     "height": 472
    },
    "colab_type": "code",
    "id": "YqK27-85hg3M",
    "outputId": "0fa84eaa-ddb6-4865-b184-0bfe86a59b62"
   },
   "outputs": [
    {
     "name": "stdout",
     "output_type": "stream",
     "text": [
      "Important words in negative reviews\n",
      "ClassLabel\tFeatureCount\tFeatureName\n",
      "\t 0 \t 3524.0 \t tast\n",
      "\t 0 \t 3494.0 \t like\n",
      "\t 0 \t 2844.0 \t product\n",
      "\t 0 \t 2480.0 \t one\n",
      "\t 0 \t 2313.0 \t would\n",
      "\t 0 \t 2192.0 \t tri\n",
      "\t 0 \t 2042.0 \t flavor\n",
      "\t 0 \t 2029.0 \t good\n",
      "\t 0 \t 1904.0 \t buy\n",
      "\t 0 \t 1805.0 \t get\n",
      "-----------------------------------------\n",
      "Important words in positive reviews\n",
      "ClassLabel\tFeatureCount\tFeatureName\n",
      "\t 1 \t 18800.0 \t like\n",
      "\t 1 \t 18640.0 \t tast\n",
      "\t 1 \t 17079.0 \t good\n",
      "\t 1 \t 16311.0 \t love\n",
      "\t 1 \t 15886.0 \t great\n",
      "\t 1 \t 14848.0 \t flavor\n",
      "\t 1 \t 14113.0 \t one\n",
      "\t 1 \t 13794.0 \t use\n",
      "\t 1 \t 13178.0 \t tri\n",
      "\t 1 \t 12900.0 \t product\n"
     ]
    }
   ],
   "source": [
    "#Feature Importance (1st way via coef)\n",
    "\n",
    "important_features(uni_gram,bnb)\n"
   ]
  },
  {
   "cell_type": "markdown",
   "metadata": {
    "colab_type": "text",
    "id": "9FFy-F2pFaAo"
   },
   "source": [
    "### Applying Multinomial Naive Bayes"
   ]
  },
  {
   "cell_type": "code",
   "execution_count": 30,
   "metadata": {
    "colab": {
     "base_uri": "https://localhost:8080/",
     "height": 145
    },
    "colab_type": "code",
    "id": "-KMKkByjFaAq",
    "outputId": "55e8535e-e751-4f53-82db-60093dfd56a1"
   },
   "outputs": [
    {
     "name": "stdout",
     "output_type": "stream",
     "text": [
      "Fitting 10 folds for each of 15 candidates, totalling 150 fits\n",
      "Best HyperParameter:  {'alpha': 0.005}\n",
      "Best Accuracy: 87.25%\n",
      "Wall time: 11 s\n"
     ]
    },
    {
     "name": "stderr",
     "output_type": "stream",
     "text": [
      "[Parallel(n_jobs=1)]: Done 150 out of 150 | elapsed:   10.8s finished\n"
     ]
    }
   ],
   "source": [
    "%%time\n",
    "from sklearn.model_selection import GridSearchCV\n",
    "from sklearn.naive_bayes import MultinomialNB\n",
    "\n",
    "mnb = MultinomialNB()\n",
    "param_grid = {'alpha':[1000,500,100,50,10,5,1,0.5,0.1,\n",
    "0.05,0.01,0.005,0.001,0.0005,0.0001]} #params we need to try on classifier\n",
    "tscv = TimeSeriesSplit(n_splits=10) #For time based splitting\n",
    "gsv = GridSearchCV(mnb,param_grid,cv=tscv,verbose=1)\n",
    "gsv.fit(X_train,y_train)\n",
    "\n",
    "print(\"Best HyperParameter: \",gsv.best_params_)\n",
    "print(\"Best Accuracy: %.2f%%\"%(gsv.best_score_*100))"
   ]
  },
  {
   "cell_type": "code",
   "execution_count": 31,
   "metadata": {
    "colab": {},
    "colab_type": "code",
    "id": "jqq5SqDMFaAw",
    "outputId": "cbde550a-ee43-4643-ecab-7014530587ef"
   },
   "outputs": [
    {
     "name": "stderr",
     "output_type": "stream",
     "text": [
      "E:\\Anaconda\\lib\\site-packages\\sklearn\\model_selection\\_search.py:761: DeprecationWarning: The grid_scores_ attribute was deprecated in version 0.18 in favor of the more elaborate cv_results_ attribute. The grid_scores_ attribute will not be available from 0.20\n",
      "  DeprecationWarning)\n"
     ]
    },
    {
     "data": {
      "image/png": "[encoded data removed]",
      "text/plain": [
       "<Figure size 432x288 with 1 Axes>"
      ]
     },
     "metadata": {},
     "output_type": "display_data"
    }
   ],
   "source": [
    "#graph plot\n",
    "plot_graph(gsv)"
   ]
  },
  {
   "cell_type": "code",
   "execution_count": 32,
   "metadata": {
    "colab": {
     "base_uri": "https://localhost:8080/",
     "height": 447
    },
    "colab_type": "code",
    "id": "STD_o_xhFaA2",
    "outputId": "72655f88-0198-408a-d6e0-9e9cea9cd88f"
   },
   "outputs": [
    {
     "name": "stdout",
     "output_type": "stream",
     "text": [
      "Accuracy on test set: 85.693%\n",
      "Precision_score on test set: 85.610%\n",
      "Recall_score on test set: 99.674%\n",
      "F1_score on test set: 92.108%\n"
     ]
    },
    {
     "data": {
      "text/plain": [
       "<matplotlib.axes._subplots.AxesSubplot at 0x263b6ca30f0>"
      ]
     },
     "execution_count": 32,
     "metadata": {},
     "output_type": "execute_result"
    },
    {
     "data": {
      "image/png": "[encoded data removed]",
      "text/plain": [
       "<Figure size 432x288 with 2 Axes>"
      ]
     },
     "metadata": {},
     "output_type": "display_data"
    }
   ],
   "source": [
    "#Testing Accuracy on Test data\n",
    "from sklearn.naive_bayes import BernoulliNB\n",
    "from sklearn.metrics import precision_score\n",
    "from sklearn.metrics import recall_score\n",
    "from sklearn.metrics import f1_score\n",
    "from sklearn.metrics import confusion_matrix\n",
    "\n",
    "mnb = MultinomialNB(alpha=0.005)\n",
    "mnb.fit(X_train,y_train)\n",
    "y_pred = mnb.predict(X_test)\n",
    "\n",
    "print(\"Accuracy on test set: %0.3f%%\"%(accuracy_score(y_test, y_pred)*100))\n",
    "print(\"Precision_score on test set: %0.3f%%\"%(precision_score(y_test, y_pred)*100))\n",
    "print(\"Recall_score on test set: %0.3f%%\"%(recall_score(y_test, y_pred)*100))\n",
    "print(\"F1_score on test set: %0.3f%%\"%(f1_score(y_test, y_pred)*100))\n",
    "\n",
    "df_cm = pd.DataFrame(confusion_matrix(y_test, y_pred), range(2),range(2))\n",
    "sns.set(font_scale=1.5) #for label size                     \n",
    "sns.heatmap(df_cm, annot=True,annot_kws={\"size\": 16}, fmt='g',linewidths=.5)"
   ]
  },
  {
   "cell_type": "markdown",
   "metadata": {
    "colab_type": "text",
    "id": "fMuC6K9PFaBO"
   },
   "source": [
    "#### Feature Importance Multinomial Navie Bays (BOW)"
   ]
  },
  {
   "cell_type": "code",
   "execution_count": 33,
   "metadata": {
    "colab": {
     "base_uri": "https://localhost:8080/",
     "height": 217
    },
    "colab_type": "code",
    "id": "_z8kwYcvO6yo",
    "outputId": "0d209c20-84d6-4f3c-98a5-1c88bba69c97"
   },
   "outputs": [
    {
     "name": "stdout",
     "output_type": "stream",
     "text": [
      "top 10 frequent words occur in Negative  class and their log_prob--\n",
      "order  :  -5.052063826886038\n",
      "buy  :  -4.987062909208701\n",
      "good  :  -4.931387953977494\n",
      "tri  :  -4.850977367792831\n",
      "would  :  -4.806831029673249\n",
      "flavor  :  -4.710710340130262\n",
      "one  :  -4.70056778805703\n",
      "product  :  -4.380603039502449\n",
      "like  :  -4.214928076180537\n",
      "tast  :  -4.100750524865709\n"
     ]
    }
   ],
   "source": [
    "#feature importance for multinomial NAVIE BAYS (2nd way via feature_log_prob_ )\n",
    "\n",
    "FEATURE_IMPORTANCE(uni_gram,mnb,10,0,'Negative')    "
   ]
  },
  {
   "cell_type": "code",
   "execution_count": 34,
   "metadata": {
    "colab": {
     "base_uri": "https://localhost:8080/",
     "height": 217
    },
    "colab_type": "code",
    "id": "KOooJxJuNUkt",
    "outputId": "b24c8352-a6e1-44ab-a646-8e2fa3aba051"
   },
   "outputs": [
    {
     "name": "stdout",
     "output_type": "stream",
     "text": [
      "top 10 frequent words occur in Positive  class and their log_prob--\n",
      "tri  :  -4.889992809477012\n",
      "one  :  -4.7901834191315205\n",
      "use  :  -4.717901887857476\n",
      "product  :  -4.715548094881443\n",
      "flavor  :  -4.579540271385783\n",
      "great  :  -4.503361035008613\n",
      "love  :  -4.4905404463636085\n",
      "good  :  -4.4889086964151375\n",
      "like  :  -4.401561463585979\n",
      "tast  :  -4.386967544757313\n"
     ]
    }
   ],
   "source": [
    "FEATURE_IMPORTANCE(uni_gram,mnb,10,1,'Positive')"
   ]
  },
  {
   "cell_type": "markdown",
   "metadata": {
    "colab_type": "text",
    "id": "y8RBWHG8FaBX"
   },
   "source": [
    "## Apply Naive Bayes on TF-IDF"
   ]
  },
  {
   "cell_type": "markdown",
   "metadata": {
    "colab_type": "text",
    "id": "8l2K4W03lE9R"
   },
   "source": [
    "### Applying Naive Bayes"
   ]
  },
  {
   "cell_type": "code",
   "execution_count": 35,
   "metadata": {
    "colab": {
     "base_uri": "https://localhost:8080/",
     "height": 90
    },
    "colab_type": "code",
    "id": "wHWlPJoXFaBY",
    "outputId": "9fef85d7-0682-43b9-a79c-d5cabdac7c87"
   },
   "outputs": [
    {
     "name": "stdout",
     "output_type": "stream",
     "text": [
      "Train Data Size:  (70000, 993349)\n",
      "Test Data Size:  (30000, 993349)\n",
      "Wall time: 26.1 s\n"
     ]
    }
   ],
   "source": [
    "%%time\n",
    "from sklearn.feature_extraction.text import TfidfVectorizer\n",
    "from sklearn.model_selection import train_test_split\n",
    "from sklearn import preprocessing\n",
    "\n",
    "#Breaking into Train and test\n",
    "X_train, X_test, y_train1, y_test = train_test_split(final_100000['clean_text'].values,final_100000['Score'].values ,test_size=0.30,shuffle=False)\n",
    "\n",
    "tfidf = TfidfVectorizer(ngram_range=(1,2)) #Using bi-grams\n",
    "X_train_tfidf=tfidf.fit_transform(X_train)\n",
    "\n",
    "#Normalize Data\n",
    "X_traintfidf_counts = preprocessing.normalize(X_train_tfidf)\n",
    "print(\"Train Data Size: \",X_traintfidf_counts.shape)\n",
    "X_test = tfidf.transform(X_test)\n",
    "#Normalize Data\n",
    "X_test = preprocessing.normalize(X_test)\n",
    "print(\"Test Data Size: \",X_test.shape)"
   ]
  },
  {
   "cell_type": "code",
   "execution_count": 36,
   "metadata": {
    "colab": {
     "base_uri": "https://localhost:8080/",
     "height": 145
    },
    "colab_type": "code",
    "id": "HRjbaNC1FaBh",
    "outputId": "18ec374c-f5d7-4198-f4fa-5ff1178e301a"
   },
   "outputs": [
    {
     "name": "stdout",
     "output_type": "stream",
     "text": [
      "Fitting 10 folds for each of 17 candidates, totalling 170 fits\n"
     ]
    },
    {
     "name": "stderr",
     "output_type": "stream",
     "text": [
      "[Parallel(n_jobs=1)]: Done 170 out of 170 | elapsed:  1.9min finished\n"
     ]
    },
    {
     "name": "stdout",
     "output_type": "stream",
     "text": [
      "Best HyperParameter:  {'alpha': 0.001}\n",
      "Best Accuracy: 86.37%\n",
      "Wall time: 1min 55s\n"
     ]
    }
   ],
   "source": [
    "%%time\n",
    "from sklearn.model_selection import GridSearchCV\n",
    "from sklearn.naive_bayes import BernoulliNB\n",
    "\n",
    "bnb = BernoulliNB()\n",
    "param_grid = {'alpha':[1000,500,100,50,10,7,6,5,4,2,1,0.5,0.1,0.05,0.01,0.005,0.001]} #params we need to try on classifier\n",
    "tscv = TimeSeriesSplit(n_splits=10) #For time based splitting\n",
    "gsv = GridSearchCV(bnb,param_grid,cv=tscv,verbose=1)\n",
    "gsv.fit(X_traintfidf_counts,y_train)\n",
    "\n",
    "print(\"Best HyperParameter: \",gsv.best_params_)\n",
    "print(\"Best Accuracy: %.2f%%\"%(gsv.best_score_*100))"
   ]
  },
  {
   "cell_type": "code",
   "execution_count": 37,
   "metadata": {
    "colab": {},
    "colab_type": "code",
    "id": "x--Xl2H3FaBm",
    "outputId": "0ae99cf2-e3ac-4f7e-d0b6-35dd52d6caeb"
   },
   "outputs": [
    {
     "name": "stderr",
     "output_type": "stream",
     "text": [
      "E:\\Anaconda\\lib\\site-packages\\sklearn\\model_selection\\_search.py:761: DeprecationWarning: The grid_scores_ attribute was deprecated in version 0.18 in favor of the more elaborate cv_results_ attribute. The grid_scores_ attribute will not be available from 0.20\n",
      "  DeprecationWarning)\n"
     ]
    },
    {
     "data": {
      "image/png": "[encoded data removed]",
      "text/plain": [
       "<Figure size 432x288 with 1 Axes>"
      ]
     },
     "metadata": {},
     "output_type": "display_data"
    }
   ],
   "source": [
    "#graph \n",
    "plot_graph(gsv)"
   ]
  },
  {
   "cell_type": "code",
   "execution_count": 38,
   "metadata": {
    "colab": {
     "base_uri": "https://localhost:8080/",
     "height": 465
    },
    "colab_type": "code",
    "id": "nza9cRVWFaBr",
    "outputId": "b0a2d015-3248-47a5-e821-a9ac397e9dda"
   },
   "outputs": [
    {
     "name": "stdout",
     "output_type": "stream",
     "text": [
      "Accuracy on test set: 86.593%\n",
      "Precision_score on test set: 86.894%\n",
      "Recall_score on test set: 98.914%\n",
      "F1_score on test set: 92.515%\n",
      "Wall time: 588 ms\n"
     ]
    },
    {
     "data": {
      "image/png": "[encoded data removed]",
      "text/plain": [
       "<Figure size 432x288 with 2 Axes>"
      ]
     },
     "metadata": {},
     "output_type": "display_data"
    }
   ],
   "source": [
    "%%time\n",
    "#Testing Accuracy on Test data\n",
    "from sklearn.naive_bayes import BernoulliNB\n",
    "from sklearn.metrics import precision_score\n",
    "from sklearn.metrics import recall_score\n",
    "from sklearn.metrics import f1_score\n",
    "from sklearn.metrics import confusion_matrix\n",
    "\n",
    "bnb = BernoulliNB(alpha=0.001)\n",
    "bnb.fit(X_traintfidf_counts,y_train)\n",
    "y_pred = bnb.predict(X_test)\n",
    "\n",
    "print(\"Accuracy on test set: %0.3f%%\"%(accuracy_score(y_test, y_pred)*100))\n",
    "print(\"Precision_score on test set: %0.3f%%\"%(precision_score(y_test, y_pred)*100))\n",
    "print(\"Recall_score on test set: %0.3f%%\"%(recall_score(y_test, y_pred)*100))\n",
    "print(\"F1_score on test set: %0.3f%%\"%(f1_score(y_test, y_pred)*100))\n",
    "\n",
    "df_cm = pd.DataFrame(confusion_matrix(y_test, y_pred), range(2),range(2))\n",
    "sns.set(font_scale=1.4) #for label size                     \n",
    "sns.heatmap(df_cm, annot=True,annot_kws={\"size\": 16}, fmt='g',linewidths=.5)"
   ]
  },
  {
   "cell_type": "markdown",
   "metadata": {
    "colab_type": "text",
    "id": "S48NF2Gkarb1"
   },
   "source": [
    "#### Feature Importance on Multinomial Navie Bays (TFIDF)"
   ]
  },
  {
   "cell_type": "code",
   "execution_count": 39,
   "metadata": {
    "colab": {
     "base_uri": "https://localhost:8080/",
     "height": 472
    },
    "colab_type": "code",
    "id": "QaFPBf--arb3",
    "outputId": "7ea707b9-0685-496c-bb67-ff1ec25ed6f0"
   },
   "outputs": [
    {
     "name": "stdout",
     "output_type": "stream",
     "text": [
      "Important words in negative reviews\n",
      "ClassLabel\tFeatureCount\tFeatureName\n",
      "\t 0 \t 3524.0 \t tast\n",
      "\t 0 \t 3494.0 \t like\n",
      "\t 0 \t 2844.0 \t product\n",
      "\t 0 \t 2480.0 \t one\n",
      "\t 0 \t 2313.0 \t would\n",
      "\t 0 \t 2192.0 \t tri\n",
      "\t 0 \t 2042.0 \t flavor\n",
      "\t 0 \t 2029.0 \t good\n",
      "\t 0 \t 1904.0 \t buy\n",
      "\t 0 \t 1805.0 \t get\n",
      "-----------------------------------------\n",
      "Important words in positive reviews\n",
      "ClassLabel\tFeatureCount\tFeatureName\n",
      "\t 1 \t 18800.0 \t like\n",
      "\t 1 \t 18640.0 \t tast\n",
      "\t 1 \t 17079.0 \t good\n",
      "\t 1 \t 16311.0 \t love\n",
      "\t 1 \t 15886.0 \t great\n",
      "\t 1 \t 14848.0 \t flavor\n",
      "\t 1 \t 14113.0 \t one\n",
      "\t 1 \t 13794.0 \t use\n",
      "\t 1 \t 13178.0 \t tri\n",
      "\t 1 \t 12900.0 \t product\n"
     ]
    }
   ],
   "source": [
    "#Feature Importance (1st way via coef)\n",
    "\n",
    "important_features(tfidf,bnb)\n"
   ]
  },
  {
   "cell_type": "markdown",
   "metadata": {
    "colab_type": "text",
    "id": "2M7bUCu_FaB-"
   },
   "source": [
    "### Applying Multinomial Naive Bayes"
   ]
  },
  {
   "cell_type": "code",
   "execution_count": 40,
   "metadata": {
    "colab": {
     "base_uri": "https://localhost:8080/",
     "height": 145
    },
    "colab_type": "code",
    "id": "vbppjv6HFaCI",
    "outputId": "4545a27a-bda3-4067-96f4-32c374b8994a"
   },
   "outputs": [
    {
     "name": "stdout",
     "output_type": "stream",
     "text": [
      "Fitting 10 folds for each of 15 candidates, totalling 150 fits\n",
      "Best HyperParameter:  {'alpha': 0.05}\n",
      "Best Accuracy: 87.39%\n",
      "Wall time: 1min 10s\n"
     ]
    },
    {
     "name": "stderr",
     "output_type": "stream",
     "text": [
      "[Parallel(n_jobs=1)]: Done 150 out of 150 | elapsed:  1.2min finished\n"
     ]
    }
   ],
   "source": [
    "%%time\n",
    "from sklearn.model_selection import GridSearchCV\n",
    "from sklearn.naive_bayes import MultinomialNB\n",
    "\n",
    "mnb = MultinomialNB()\n",
    "param_grid = {'alpha':[1000,500,100,50,10,5,1,0.5,0.1,0.05,0.01,0.005,0.001,0.0005,0.0001]} #params we need to try on classifier\n",
    "tscv = TimeSeriesSplit(n_splits=10) #For time based splitting\n",
    "gsv = GridSearchCV(mnb,param_grid,cv=tscv,verbose=1)\n",
    "gsv.fit(X_traintfidf_counts,y_train)\n",
    "\n",
    "print(\"Best HyperParameter: \",gsv.best_params_)\n",
    "print(\"Best Accuracy: %.2f%%\"%(gsv.best_score_*100))"
   ]
  },
  {
   "cell_type": "code",
   "execution_count": 41,
   "metadata": {
    "colab": {},
    "colab_type": "code",
    "id": "bOYsXaZwFaCU",
    "outputId": "f19db935-f295-4fc5-dd01-42632358cfc5"
   },
   "outputs": [
    {
     "name": "stderr",
     "output_type": "stream",
     "text": [
      "E:\\Anaconda\\lib\\site-packages\\sklearn\\model_selection\\_search.py:761: DeprecationWarning: The grid_scores_ attribute was deprecated in version 0.18 in favor of the more elaborate cv_results_ attribute. The grid_scores_ attribute will not be available from 0.20\n",
      "  DeprecationWarning)\n"
     ]
    },
    {
     "data": {
      "image/png": "[encoded data removed]",
      "text/plain": [
       "<Figure size 432x288 with 1 Axes>"
      ]
     },
     "metadata": {},
     "output_type": "display_data"
    }
   ],
   "source": [
    "plot_graph(gsv)"
   ]
  },
  {
   "cell_type": "code",
   "execution_count": 42,
   "metadata": {
    "colab": {
     "base_uri": "https://localhost:8080/",
     "height": 465
    },
    "colab_type": "code",
    "id": "LdDXBL-GFaCb",
    "outputId": "690a51f1-f59d-4e5c-d7be-28ae30ada9bb"
   },
   "outputs": [
    {
     "name": "stdout",
     "output_type": "stream",
     "text": [
      "Accuracy on test set: 86.080%\n",
      "Precision_score on test set: 85.936%\n",
      "Recall_score on test set: 99.698%\n",
      "F1_score on test set: 92.307%\n",
      "Wall time: 414 ms\n"
     ]
    },
    {
     "data": {
      "image/png": "[encoded data removed]",
      "text/plain": [
       "<Figure size 432x288 with 2 Axes>"
      ]
     },
     "metadata": {},
     "output_type": "display_data"
    }
   ],
   "source": [
    "%%time\n",
    "from sklearn.naive_bayes import BernoulliNB\n",
    "from sklearn.metrics import confusion_matrix\n",
    "\n",
    "mnb = MultinomialNB(alpha=0.05)\n",
    "mnb.fit(X_traintfidf_counts,y_train)\n",
    "y_pred = mnb.predict(X_test)\n",
    "\n",
    "print(\"Accuracy on test set: %0.3f%%\"%(accuracy_score(y_test, y_pred)*100))\n",
    "print(\"Precision_score on test set: %0.3f%%\"%(precision_score(y_test, y_pred)*100))\n",
    "print(\"Recall_score on test set: %0.3f%%\"%(recall_score(y_test, y_pred)*100))\n",
    "print(\"F1_score on test set: %0.3f%%\"%(f1_score(y_test, y_pred)*100))\n",
    "\n",
    "df_cm = pd.DataFrame(confusion_matrix(y_test, y_pred), range(2),range(2))\n",
    "sns.set(font_scale=1.5) #for label size                     \n",
    "sns.heatmap(df_cm, annot=True,annot_kws={\"size\": 16}, fmt='g',linewidths=.5)"
   ]
  },
  {
   "cell_type": "markdown",
   "metadata": {
    "colab_type": "text",
    "id": "IZXrzQcZdfHI"
   },
   "source": [
    "#### Feature Importance Multinomial Navie Bays (TFIDF)"
   ]
  },
  {
   "cell_type": "code",
   "execution_count": 43,
   "metadata": {
    "colab": {
     "base_uri": "https://localhost:8080/",
     "height": 217
    },
    "colab_type": "code",
    "id": "vkFbjVqQdfHJ",
    "outputId": "f8ab5202-bf83-4cab-9858-c2c125fa1193"
   },
   "outputs": [
    {
     "name": "stdout",
     "output_type": "stream",
     "text": [
      "top 10 frequent words occur in Negative  class and their log_prob--\n",
      "buy  :  -7.13303741208571\n",
      "order  :  -7.122179975034094\n",
      "tri  :  -7.105285115422609\n",
      "coffe  :  -7.008751193894622\n",
      "one  :  -6.995642266321445\n",
      "flavor  :  -6.990498625293218\n",
      "would  :  -6.96177691984872\n",
      "product  :  -6.661102198624924\n",
      "like  :  -6.614889875566531\n",
      "tast  :  -6.497949927448511\n"
     ]
    }
   ],
   "source": [
    "#feature importance for multinomial NAVIE BAYS (2nd way via feature_log_prob_ )\n",
    "    \n",
    "FEATURE_IMPORTANCE(tfidf,mnb,10,0,'Negative')    "
   ]
  },
  {
   "cell_type": "code",
   "execution_count": 44,
   "metadata": {
    "colab": {
     "base_uri": "https://localhost:8080/",
     "height": 217
    },
    "colab_type": "code",
    "id": "oI-lMf59dfHQ",
    "outputId": "b28282a0-50a7-4043-beab-56edfb2875fa"
   },
   "outputs": [
    {
     "name": "stdout",
     "output_type": "stream",
     "text": [
      "top 10 frequent words occur in Positive  class and their log_prob--\n",
      "product  :  -6.540002160040899\n",
      "use  :  -6.537616839812984\n",
      "coffe  :  -6.462140732327311\n",
      "flavor  :  -6.4115656297153825\n",
      "good  :  -6.385322322074521\n",
      "tea  :  -6.383431450313046\n",
      "love  :  -6.358900008811538\n",
      "like  :  -6.354350615110316\n",
      "great  :  -6.34936978354717\n",
      "tast  :  -6.338725457960151\n"
     ]
    }
   ],
   "source": [
    "FEATURE_IMPORTANCE(tfidf,mnb,10,1,'Positive')"
   ]
  },
  {
   "cell_type": "markdown",
   "metadata": {
    "colab_type": "text",
    "id": "eY8BH-R3FaEv"
   },
   "source": [
    "## ***Conclusion:***"
   ]
  },
  {
   "cell_type": "markdown",
   "metadata": {
    "colab_type": "text",
    "id": "oygMcUZxgdlu"
   },
   "source": [
    "|Featurization |Accuracy Score |Precision Score |Re-call Score| F1-Score |\n",
    "| ---------------------|--------------------------|--------------------------|---------------------|----------------| \n",
    "| BOW (BernoulliNB) |    87.233%     |     91.530%    |93.402%     |     92.456%     |\n",
    "| BOW (MultinomialNB)|     85.693%     |     85.610%    |99.674%     |    92.108%     |\n",
    "| ******************|************|****************|****|****|\n",
    "| TFIDF (BernoulliNB) |   86.593%     |     86.894%    |98.914%     |     92.515%     |\n",
    "| TFIDF (MultinomialNB)|    86.080%     |     85.936%    |99.698%     |     92.907%     |"
   ]
  },
  {
   "cell_type": "markdown",
   "metadata": {
    "colab_type": "text",
    "id": "u4bjsjRyFaEx"
   },
   "source": [
    "                                            ---XXX---"
   ]
  }
 ],
 "metadata": {
  "colab": {
   "collapsed_sections": [
    "3jYaj_EcuZ2K",
    "IZXrzQcZdfHI"
   ],
   "name": "In progress Assignment4-NaiveBays.ipynb",
   "provenance": [],
   "version": "0.3.2"
  },
  "kernelspec": {
   "display_name": "Python 3",
   "language": "python",
   "name": "python3"
  },
  "language_info": {
   "codemirror_mode": {
    "name": "ipython",
    "version": 3
   },
   "file_extension": ".py",
   "mimetype": "text/x-python",
   "name": "python",
   "nbconvert_exporter": "python",
   "pygments_lexer": "ipython3",
   "version": "3.6.5"
  }
 },
 "nbformat": 4,
 "nbformat_minor": 1
}
