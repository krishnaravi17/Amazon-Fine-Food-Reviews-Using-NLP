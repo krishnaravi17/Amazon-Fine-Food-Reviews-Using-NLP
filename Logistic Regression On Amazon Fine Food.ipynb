{
 "cells": [
  {
   "cell_type": "markdown",
   "metadata": {},
   "source": [
    "# Logistic Regression On Amazon Fine Food Reviews\n",
    "###### This is my 5th assignment."
   ]
  },
  {
   "cell_type": "markdown",
   "metadata": {},
   "source": [
    "## Objective:\n",
    "\n",
    "     1. Apply the Logistic Regression algorithm on BOW,TF-IDF,Word2Vec, TF-IDF Word2Vec\n",
    "     2. Apply the both GridSearch and RandomSearch cross validation\n",
    "     3. Evaluate differnet metrics such as precision ,recall,f1-score and plot the confusion matrix\n",
    "     4. Show how sparsity increase as lambda increase or C decreases with L1 regularizer\n",
    "     5. Use Pertubation to check for the multicolinerity of features\n"
   ]
  },
  {
   "cell_type": "code",
   "execution_count": 1,
   "metadata": {},
   "outputs": [
    {
     "name": "stderr",
     "output_type": "stream",
     "text": [
      "E:\\PYTHON\\lib\\site-packages\\gensim\\utils.py:1209: UserWarning: detected Windows; aliasing chunkize to chunkize_serial\n",
      "  warnings.warn(\"detected Windows; aliasing chunkize to chunkize_serial\")\n"
     ]
    }
   ],
   "source": [
    "#Loading important Libraries\n",
    "import numpy as np\n",
    "import pandas as pd\n",
    "import matplotlib.pyplot as plt\n",
    "import sqlite3 as sql\n",
    "import seaborn as sns\n",
    "from time import time\n",
    "import random\n",
    "import gensim\n",
    "import warnings\n",
    "\n",
    "from sklearn.metrics import accuracy_score\n",
    "from sklearn.metrics import confusion_matrix\n",
    "from sklearn.metrics import precision_score\n",
    "from sklearn.metrics import f1_score\n",
    "from sklearn.metrics import recall_score\n",
    "\n",
    "warnings.filterwarnings(\"ignore\")\n",
    "\n",
    "%matplotlib inline \n",
    "\n",
    "from sklearn.model_selection import GridSearchCV\n",
    "from sklearn.model_selection import RandomizedSearchCV\n",
    "from sklearn.linear_model import LogisticRegression\n",
    "from sklearn.model_selection import TimeSeriesSplit\n",
    "from sklearn.feature_extraction.text import TfidfVectorizer"
   ]
  },
  {
   "cell_type": "code",
   "execution_count": 2,
   "metadata": {},
   "outputs": [
    {
     "data": {
      "text/html": [
       "<div>\n",
       "<style scoped>\n",
       "    .dataframe tbody tr th:only-of-type {\n",
       "        vertical-align: middle;\n",
       "    }\n",
       "\n",
       "    .dataframe tbody tr th {\n",
       "        vertical-align: top;\n",
       "    }\n",
       "\n",
       "    .dataframe thead th {\n",
       "        text-align: right;\n",
       "    }\n",
       "</style>\n",
       "<table border=\"1\" class=\"dataframe\">\n",
       "  <thead>\n",
       "    <tr style=\"text-align: right;\">\n",
       "      <th></th>\n",
       "      <th>Id</th>\n",
       "      <th>ProductId</th>\n",
       "      <th>UserId</th>\n",
       "      <th>ProfileName</th>\n",
       "      <th>HelpfulnessNumerator</th>\n",
       "      <th>HelpfulnessDenominator</th>\n",
       "      <th>Score</th>\n",
       "      <th>Time</th>\n",
       "      <th>Summary</th>\n",
       "      <th>Text</th>\n",
       "    </tr>\n",
       "  </thead>\n",
       "  <tbody>\n",
       "    <tr>\n",
       "      <th>0</th>\n",
       "      <td>1</td>\n",
       "      <td>B001E4KFG0</td>\n",
       "      <td>A3SGXH7AUHU8GW</td>\n",
       "      <td>delmartian</td>\n",
       "      <td>1</td>\n",
       "      <td>1</td>\n",
       "      <td>5</td>\n",
       "      <td>1303862400</td>\n",
       "      <td>Good Quality Dog Food</td>\n",
       "      <td>I have bought several of the Vitality canned d...</td>\n",
       "    </tr>\n",
       "    <tr>\n",
       "      <th>1</th>\n",
       "      <td>2</td>\n",
       "      <td>B00813GRG4</td>\n",
       "      <td>A1D87F6ZCVE5NK</td>\n",
       "      <td>dll pa</td>\n",
       "      <td>0</td>\n",
       "      <td>0</td>\n",
       "      <td>1</td>\n",
       "      <td>1346976000</td>\n",
       "      <td>Not as Advertised</td>\n",
       "      <td>Product arrived labeled as Jumbo Salted Peanut...</td>\n",
       "    </tr>\n",
       "    <tr>\n",
       "      <th>2</th>\n",
       "      <td>3</td>\n",
       "      <td>B000LQOCH0</td>\n",
       "      <td>ABXLMWJIXXAIN</td>\n",
       "      <td>Natalia Corres \"Natalia Corres\"</td>\n",
       "      <td>1</td>\n",
       "      <td>1</td>\n",
       "      <td>4</td>\n",
       "      <td>1219017600</td>\n",
       "      <td>\"Delight\" says it all</td>\n",
       "      <td>This is a confection that has been around a fe...</td>\n",
       "    </tr>\n",
       "    <tr>\n",
       "      <th>3</th>\n",
       "      <td>4</td>\n",
       "      <td>B000UA0QIQ</td>\n",
       "      <td>A395BORC6FGVXV</td>\n",
       "      <td>Karl</td>\n",
       "      <td>3</td>\n",
       "      <td>3</td>\n",
       "      <td>2</td>\n",
       "      <td>1307923200</td>\n",
       "      <td>Cough Medicine</td>\n",
       "      <td>If you are looking for the secret ingredient i...</td>\n",
       "    </tr>\n",
       "    <tr>\n",
       "      <th>4</th>\n",
       "      <td>5</td>\n",
       "      <td>B006K2ZZ7K</td>\n",
       "      <td>A1UQRSCLF8GW1T</td>\n",
       "      <td>Michael D. Bigham \"M. Wassir\"</td>\n",
       "      <td>0</td>\n",
       "      <td>0</td>\n",
       "      <td>5</td>\n",
       "      <td>1350777600</td>\n",
       "      <td>Great taffy</td>\n",
       "      <td>Great taffy at a great price.  There was a wid...</td>\n",
       "    </tr>\n",
       "  </tbody>\n",
       "</table>\n",
       "</div>"
      ],
      "text/plain": [
       "   Id   ProductId          UserId                      ProfileName  \\\n",
       "0   1  B001E4KFG0  A3SGXH7AUHU8GW                       delmartian   \n",
       "1   2  B00813GRG4  A1D87F6ZCVE5NK                           dll pa   \n",
       "2   3  B000LQOCH0   ABXLMWJIXXAIN  Natalia Corres \"Natalia Corres\"   \n",
       "3   4  B000UA0QIQ  A395BORC6FGVXV                             Karl   \n",
       "4   5  B006K2ZZ7K  A1UQRSCLF8GW1T    Michael D. Bigham \"M. Wassir\"   \n",
       "\n",
       "   HelpfulnessNumerator  HelpfulnessDenominator  Score        Time  \\\n",
       "0                     1                       1      5  1303862400   \n",
       "1                     0                       0      1  1346976000   \n",
       "2                     1                       1      4  1219017600   \n",
       "3                     3                       3      2  1307923200   \n",
       "4                     0                       0      5  1350777600   \n",
       "\n",
       "                 Summary                                               Text  \n",
       "0  Good Quality Dog Food  I have bought several of the Vitality canned d...  \n",
       "1      Not as Advertised  Product arrived labeled as Jumbo Salted Peanut...  \n",
       "2  \"Delight\" says it all  This is a confection that has been around a fe...  \n",
       "3         Cough Medicine  If you are looking for the secret ingredient i...  \n",
       "4            Great taffy  Great taffy at a great price.  There was a wid...  "
      ]
     },
     "execution_count": 2,
     "metadata": {},
     "output_type": "execute_result"
    }
   ],
   "source": [
    "filtered_data=pd.read_csv('Reviews.csv')#displaying\n",
    "filtered_data.head()"
   ]
  },
  {
   "cell_type": "code",
   "execution_count": 3,
   "metadata": {},
   "outputs": [
    {
     "name": "stdout",
     "output_type": "stream",
     "text": [
      "(568454, 10)\n"
     ]
    },
    {
     "data": {
      "text/html": [
       "<div>\n",
       "<style scoped>\n",
       "    .dataframe tbody tr th:only-of-type {\n",
       "        vertical-align: middle;\n",
       "    }\n",
       "\n",
       "    .dataframe tbody tr th {\n",
       "        vertical-align: top;\n",
       "    }\n",
       "\n",
       "    .dataframe thead th {\n",
       "        text-align: right;\n",
       "    }\n",
       "</style>\n",
       "<table border=\"1\" class=\"dataframe\">\n",
       "  <thead>\n",
       "    <tr style=\"text-align: right;\">\n",
       "      <th></th>\n",
       "      <th>Id</th>\n",
       "      <th>ProductId</th>\n",
       "      <th>UserId</th>\n",
       "      <th>ProfileName</th>\n",
       "      <th>HelpfulnessNumerator</th>\n",
       "      <th>HelpfulnessDenominator</th>\n",
       "      <th>Score</th>\n",
       "      <th>Time</th>\n",
       "      <th>Summary</th>\n",
       "      <th>Text</th>\n",
       "    </tr>\n",
       "  </thead>\n",
       "  <tbody>\n",
       "    <tr>\n",
       "      <th>0</th>\n",
       "      <td>1</td>\n",
       "      <td>B001E4KFG0</td>\n",
       "      <td>A3SGXH7AUHU8GW</td>\n",
       "      <td>delmartian</td>\n",
       "      <td>1</td>\n",
       "      <td>1</td>\n",
       "      <td>positive</td>\n",
       "      <td>1303862400</td>\n",
       "      <td>Good Quality Dog Food</td>\n",
       "      <td>I have bought several of the Vitality canned d...</td>\n",
       "    </tr>\n",
       "    <tr>\n",
       "      <th>1</th>\n",
       "      <td>2</td>\n",
       "      <td>B00813GRG4</td>\n",
       "      <td>A1D87F6ZCVE5NK</td>\n",
       "      <td>dll pa</td>\n",
       "      <td>0</td>\n",
       "      <td>0</td>\n",
       "      <td>negative</td>\n",
       "      <td>1346976000</td>\n",
       "      <td>Not as Advertised</td>\n",
       "      <td>Product arrived labeled as Jumbo Salted Peanut...</td>\n",
       "    </tr>\n",
       "    <tr>\n",
       "      <th>2</th>\n",
       "      <td>3</td>\n",
       "      <td>B000LQOCH0</td>\n",
       "      <td>ABXLMWJIXXAIN</td>\n",
       "      <td>Natalia Corres \"Natalia Corres\"</td>\n",
       "      <td>1</td>\n",
       "      <td>1</td>\n",
       "      <td>positive</td>\n",
       "      <td>1219017600</td>\n",
       "      <td>\"Delight\" says it all</td>\n",
       "      <td>This is a confection that has been around a fe...</td>\n",
       "    </tr>\n",
       "    <tr>\n",
       "      <th>3</th>\n",
       "      <td>4</td>\n",
       "      <td>B000UA0QIQ</td>\n",
       "      <td>A395BORC6FGVXV</td>\n",
       "      <td>Karl</td>\n",
       "      <td>3</td>\n",
       "      <td>3</td>\n",
       "      <td>negative</td>\n",
       "      <td>1307923200</td>\n",
       "      <td>Cough Medicine</td>\n",
       "      <td>If you are looking for the secret ingredient i...</td>\n",
       "    </tr>\n",
       "    <tr>\n",
       "      <th>4</th>\n",
       "      <td>5</td>\n",
       "      <td>B006K2ZZ7K</td>\n",
       "      <td>A1UQRSCLF8GW1T</td>\n",
       "      <td>Michael D. Bigham \"M. Wassir\"</td>\n",
       "      <td>0</td>\n",
       "      <td>0</td>\n",
       "      <td>positive</td>\n",
       "      <td>1350777600</td>\n",
       "      <td>Great taffy</td>\n",
       "      <td>Great taffy at a great price.  There was a wid...</td>\n",
       "    </tr>\n",
       "  </tbody>\n",
       "</table>\n",
       "</div>"
      ],
      "text/plain": [
       "   Id   ProductId          UserId                      ProfileName  \\\n",
       "0   1  B001E4KFG0  A3SGXH7AUHU8GW                       delmartian   \n",
       "1   2  B00813GRG4  A1D87F6ZCVE5NK                           dll pa   \n",
       "2   3  B000LQOCH0   ABXLMWJIXXAIN  Natalia Corres \"Natalia Corres\"   \n",
       "3   4  B000UA0QIQ  A395BORC6FGVXV                             Karl   \n",
       "4   5  B006K2ZZ7K  A1UQRSCLF8GW1T    Michael D. Bigham \"M. Wassir\"   \n",
       "\n",
       "   HelpfulnessNumerator  HelpfulnessDenominator     Score        Time  \\\n",
       "0                     1                       1  positive  1303862400   \n",
       "1                     0                       0  negative  1346976000   \n",
       "2                     1                       1  positive  1219017600   \n",
       "3                     3                       3  negative  1307923200   \n",
       "4                     0                       0  positive  1350777600   \n",
       "\n",
       "                 Summary                                               Text  \n",
       "0  Good Quality Dog Food  I have bought several of the Vitality canned d...  \n",
       "1      Not as Advertised  Product arrived labeled as Jumbo Salted Peanut...  \n",
       "2  \"Delight\" says it all  This is a confection that has been around a fe...  \n",
       "3         Cough Medicine  If you are looking for the secret ingredient i...  \n",
       "4            Great taffy  Great taffy at a great price.  There was a wid...  "
      ]
     },
     "execution_count": 3,
     "metadata": {},
     "output_type": "execute_result"
    }
   ],
   "source": [
    "#For setting positive/negative \n",
    "filtered_data=pd.read_csv('Reviews.csv')\n",
    "def partition(x):\n",
    "    if x < 3:\n",
    "        return 'negative'\n",
    "    return 'positive'\n",
    "#changing reviews with score less than 3 to be positive and vice-versa\n",
    "actualScore = filtered_data['Score']\n",
    "#pdb.set_trace()\n",
    "positiveNegative = actualScore.map(partition) \n",
    "#pdb.set_trace()\n",
    "filtered_data['Score'] = positiveNegative\n",
    "#print(filtered_data.head())#print 5 row \n",
    "print(filtered_data.shape) #looking at the number of attributes and size of the data\n",
    "filtered_data.head()"
   ]
  },
  {
   "cell_type": "code",
   "execution_count": 4,
   "metadata": {},
   "outputs": [],
   "source": [
    "#Sorting data according to ProductId in ascending order\n",
    "sorted_data=filtered_data.sort_values('ProductId', axis=0, ascending=True,)"
   ]
  },
  {
   "cell_type": "code",
   "execution_count": 5,
   "metadata": {},
   "outputs": [
    {
     "name": "stdout",
     "output_type": "stream",
     "text": [
      "(568452, 10)\n"
     ]
    }
   ],
   "source": [
    "sorted_data=sorted_data[sorted_data.HelpfulnessNumerator<=sorted_data.HelpfulnessDenominator]\n",
    "print(sorted_data.shape)"
   ]
  },
  {
   "cell_type": "code",
   "execution_count": 6,
   "metadata": {},
   "outputs": [
    {
     "name": "stdout",
     "output_type": "stream",
     "text": [
      "(393931, 10)\n",
      "69.29865917031105\n"
     ]
    },
    {
     "data": {
      "text/plain": [
       "positive    336824\n",
       "negative     57107\n",
       "Name: Score, dtype: int64"
      ]
     },
     "execution_count": 6,
     "metadata": {},
     "output_type": "execute_result"
    }
   ],
   "source": [
    "#De-duplication of entries\n",
    "final=sorted_data.drop_duplicates(subset={\"UserId\",\"ProfileName\",\"Time\",\"Text\"}, keep='first', inplace=False)\n",
    "\n",
    "print(final.shape)#shape\n",
    "\n",
    "print((final['Id'].size*1.0)/(filtered_data['Id'].size*1.0)*100)#percentage\n",
    "\n",
    "#get to know how much posive negative there in table\n",
    "final['Score'].value_counts()"
   ]
  },
  {
   "cell_type": "code",
   "execution_count": 7,
   "metadata": {},
   "outputs": [
    {
     "data": {
      "text/html": [
       "<div>\n",
       "<style scoped>\n",
       "    .dataframe tbody tr th:only-of-type {\n",
       "        vertical-align: middle;\n",
       "    }\n",
       "\n",
       "    .dataframe tbody tr th {\n",
       "        vertical-align: top;\n",
       "    }\n",
       "\n",
       "    .dataframe thead th {\n",
       "        text-align: right;\n",
       "    }\n",
       "</style>\n",
       "<table border=\"1\" class=\"dataframe\">\n",
       "  <thead>\n",
       "    <tr style=\"text-align: right;\">\n",
       "      <th></th>\n",
       "      <th>Id</th>\n",
       "      <th>ProductId</th>\n",
       "      <th>UserId</th>\n",
       "      <th>ProfileName</th>\n",
       "      <th>HelpfulnessNumerator</th>\n",
       "      <th>HelpfulnessDenominator</th>\n",
       "      <th>Score</th>\n",
       "      <th>Time</th>\n",
       "      <th>Summary</th>\n",
       "      <th>Text</th>\n",
       "    </tr>\n",
       "  </thead>\n",
       "  <tbody>\n",
       "    <tr>\n",
       "      <th>150500</th>\n",
       "      <td>150501</td>\n",
       "      <td>0006641040</td>\n",
       "      <td>AJ46FKXOVC7NR</td>\n",
       "      <td>Nicholas A Mesiano</td>\n",
       "      <td>2</td>\n",
       "      <td>2</td>\n",
       "      <td>positive</td>\n",
       "      <td>940809600</td>\n",
       "      <td>This whole series is great way to spend time w...</td>\n",
       "      <td>I can remember seeing the show when it aired o...</td>\n",
       "    </tr>\n",
       "    <tr>\n",
       "      <th>451855</th>\n",
       "      <td>451856</td>\n",
       "      <td>B00004CXX9</td>\n",
       "      <td>AIUWLEQ1ADEG5</td>\n",
       "      <td>Elizabeth Medina</td>\n",
       "      <td>0</td>\n",
       "      <td>0</td>\n",
       "      <td>positive</td>\n",
       "      <td>944092800</td>\n",
       "      <td>Entertainingl Funny!</td>\n",
       "      <td>Beetlejuice is a well written movie ..... ever...</td>\n",
       "    </tr>\n",
       "    <tr>\n",
       "      <th>451902</th>\n",
       "      <td>451903</td>\n",
       "      <td>B00004CXX9</td>\n",
       "      <td>A2DEE7F9XKP3ZR</td>\n",
       "      <td>jerome</td>\n",
       "      <td>0</td>\n",
       "      <td>1</td>\n",
       "      <td>positive</td>\n",
       "      <td>959990400</td>\n",
       "      <td>Research</td>\n",
       "      <td>I'm getting crazy.&lt;p&gt;Is it really impossible t...</td>\n",
       "    </tr>\n",
       "    <tr>\n",
       "      <th>1244</th>\n",
       "      <td>1245</td>\n",
       "      <td>B00002Z754</td>\n",
       "      <td>A29Z5PI9BW2PU3</td>\n",
       "      <td>Robbie</td>\n",
       "      <td>7</td>\n",
       "      <td>7</td>\n",
       "      <td>positive</td>\n",
       "      <td>961718400</td>\n",
       "      <td>Great Product</td>\n",
       "      <td>This was a really good idea and the final prod...</td>\n",
       "    </tr>\n",
       "    <tr>\n",
       "      <th>1243</th>\n",
       "      <td>1244</td>\n",
       "      <td>B00002Z754</td>\n",
       "      <td>A3B8RCEI0FXFI6</td>\n",
       "      <td>B G Chase</td>\n",
       "      <td>10</td>\n",
       "      <td>10</td>\n",
       "      <td>positive</td>\n",
       "      <td>962236800</td>\n",
       "      <td>WOW Make your own 'slickers' !</td>\n",
       "      <td>I just received my shipment and could hardly w...</td>\n",
       "    </tr>\n",
       "  </tbody>\n",
       "</table>\n",
       "</div>"
      ],
      "text/plain": [
       "            Id   ProductId          UserId         ProfileName  \\\n",
       "150500  150501  0006641040   AJ46FKXOVC7NR  Nicholas A Mesiano   \n",
       "451855  451856  B00004CXX9   AIUWLEQ1ADEG5    Elizabeth Medina   \n",
       "451902  451903  B00004CXX9  A2DEE7F9XKP3ZR              jerome   \n",
       "1244      1245  B00002Z754  A29Z5PI9BW2PU3              Robbie   \n",
       "1243      1244  B00002Z754  A3B8RCEI0FXFI6           B G Chase   \n",
       "\n",
       "        HelpfulnessNumerator  HelpfulnessDenominator     Score       Time  \\\n",
       "150500                     2                       2  positive  940809600   \n",
       "451855                     0                       0  positive  944092800   \n",
       "451902                     0                       1  positive  959990400   \n",
       "1244                       7                       7  positive  961718400   \n",
       "1243                      10                      10  positive  962236800   \n",
       "\n",
       "                                                  Summary  \\\n",
       "150500  This whole series is great way to spend time w...   \n",
       "451855                               Entertainingl Funny!   \n",
       "451902                                           Research   \n",
       "1244                                        Great Product   \n",
       "1243                       WOW Make your own 'slickers' !   \n",
       "\n",
       "                                                     Text  \n",
       "150500  I can remember seeing the show when it aired o...  \n",
       "451855  Beetlejuice is a well written movie ..... ever...  \n",
       "451902  I'm getting crazy.<p>Is it really impossible t...  \n",
       "1244    This was a really good idea and the final prod...  \n",
       "1243    I just received my shipment and could hardly w...  "
      ]
     },
     "execution_count": 7,
     "metadata": {},
     "output_type": "execute_result"
    }
   ],
   "source": [
    "###Sorting as we want according to time series\n",
    "\n",
    "n_samples = 150000\n",
    "df_sample = final.sample(n_samples)\n",
    "\n",
    "df_sample.sort_values('Time',inplace=True)\n",
    "df_sample.head(5)\n",
    "#print(df_sample.shape)"
   ]
  },
  {
   "cell_type": "code",
   "execution_count": 8,
   "metadata": {},
   "outputs": [
    {
     "name": "stdout",
     "output_type": "stream",
     "text": [
      "0\n",
      "In June<br />I saw a charming group<br />of roses all begin<br />to droop<br />I pepped them up<br />with chicken soup!<br />Sprinkle once<br />sprinkle twice<br />sprinkle chicken soup<br />with rice<br /><br />This is a great book to teach children the months of the year. The repetition of the phrases and the funny little stories with accompanying pictures make for an ideal bedtime read. This isn't nearly as good as some of Sendak's other books (like Where the Wild Things are or Pierre: The Boy Who Didn't Care), but it still carries his unique brand of charm.\n"
     ]
    }
   ],
   "source": [
    "import nltk\n",
    "from nltk.corpus import stopwords\n",
    "#nltk.download('stopwords')\n",
    "stopwords = stopwords.words('english')#choosen the english language\n",
    "\n",
    "from nltk.corpus import stopwords\n",
    "from nltk.stem import PorterStemmer\n",
    "from nltk.stem.wordnet import WordNetLemmatizer\n",
    "from nltk.stem import PorterStemmer,SnowballStemmer\n",
    "\n",
    "stop = set(stopwords.words('english')) #set of stopwords\n",
    "porter = PorterStemmer()\n",
    "snowball = SnowballStemmer('english')\n",
    "#Text Preprocessing: Stemming, stop-word removal and Lemmatization\n",
    "# find sentences containing HTML tags\n",
    "import re#regular expression\n",
    "\n",
    "i=0;\n",
    "for sent in final['Text'].values:\n",
    "    if (len(re.findall('<.*?>', sent))):\n",
    "        print(i)\n",
    "        print(sent)\n",
    "        break;\n",
    "    i += 1;\n",
    "\n"
   ]
  },
  {
   "cell_type": "code",
   "execution_count": 9,
   "metadata": {},
   "outputs": [
    {
     "name": "stdout",
     "output_type": "stream",
     "text": [
      "Wall time: 7min 17s\n"
     ]
    }
   ],
   "source": [
    "%%time\n",
    "#Code for implementing step-by-step the checks mentioned in the pre-processing phase\n",
    "# this code takes a while to run as it needs to run on 500k sentences.\n",
    "i=0\n",
    "str1=' '\n",
    "final_string=[]\n",
    "all_positive_words=[] # store words from +ve reviews here\n",
    "all_negative_words=[] # store words from -ve reviews here.\n",
    "s=''\n",
    "\n",
    "final_150000 = df_sample.head(150000)#taking 150000 datapoints\n",
    "\n",
    "def cleanhtml(sentence): \n",
    "    cleanr = re.compile('<.*?>')\n",
    "    cleantext = re.sub(cleanr, ' ', sentence)\n",
    "    return cleantext\n",
    "\n",
    "def cleanpunc(sentence): \n",
    "    cleaned = re.sub(r'[?|!|\\'|\"|#]',r'',sentence)\n",
    "    cleaned = re.sub(r'[.|,|)|(|\\|/]',r' ',cleaned)\n",
    "    return cleaned\n",
    "\n",
    "    str1=[];\n",
    "\n",
    "for sent in final_150000['Text'].values:\n",
    "    filtered_sentence=[]\n",
    "    #print(sent);\n",
    "    sent=cleanhtml(sent) # remove HTMl tags\n",
    "    sent=cleanpunc(sent) \n",
    "    for w in sent.split():\n",
    "        for cleaned_words in cleanpunc(w).split():\n",
    "            if((cleaned_words.isalpha()) & (len(cleaned_words)>2)):    \n",
    "                if(cleaned_words.lower() not in stop):\n",
    "                    s=(snowball.stem(cleaned_words.lower())).encode('utf8')\n",
    "                    filtered_sentence.append(s)\n",
    "                    if (final_150000['Score'].values)[i] == 'positive': \n",
    "                        all_positive_words.append(s) #list of all words used to describe positive reviews\n",
    "                    if(final_150000['Score'].values)[i] == 'negative':\n",
    "                        all_negative_words.append(s) #list of all words used to describe negative reviews reviews\n",
    "                else:\n",
    "                    continue\n",
    "            else:\n",
    "                continue \n",
    "    #print(filtered_sentence)\n",
    "    #str1 =b\" \".join(filtered_sentence) #final string of cleaned words\n",
    "    str1 =b' '.join(filtered_sentence).decode()\n",
    "    #print(\"***********************************************************************\")\n",
    "    \n",
    "    final_string.append(str1)\n",
    "    i+=1"
   ]
  },
  {
   "cell_type": "code",
   "execution_count": 10,
   "metadata": {},
   "outputs": [
    {
     "name": "stdout",
     "output_type": "stream",
     "text": [
      "(150000, 11)\n"
     ]
    }
   ],
   "source": [
    "#adding a column of CleanedText which displays the data after pre-processing of the review \n",
    "final_150000['clean_text']=final_string\n",
    "\n",
    "#final_50000=final_100000.head(150000)#taking 50k datapoints\n",
    "print(final_150000.shape)"
   ]
  },
  {
   "cell_type": "code",
   "execution_count": 11,
   "metadata": {},
   "outputs": [],
   "source": [
    "#Functions to save objects for later use and retireve it\n",
    "import pickle\n",
    "def SaveToFile(obj,filename):\n",
    "    pickle.dump(obj,open(filename+\".p\",\"wb\"))\n",
    "def OpenFromFile(filename):\n",
    "    temp = pickle.load(open(filename+\".p\",\"rb\"))\n",
    "    return temp"
   ]
  },
  {
   "cell_type": "markdown",
   "metadata": {},
   "source": [
    "## Bag Of Words Using Logistic Regression"
   ]
  },
  {
   "cell_type": "code",
   "execution_count": 13,
   "metadata": {},
   "outputs": [],
   "source": [
    "from sklearn.feature_extraction.text import CountVectorizer\n",
    "from sklearn import preprocessing\n",
    "from sklearn.model_selection import train_test_split\n",
    "\n",
    "from sklearn import preprocessing\n",
    "X_train, X_test, y_train, y_test = train_test_split(final_150000['clean_text'].values,\n",
    "                                                    final_150000['Score'].values ,test_size=0.30,shuffle=False)"
   ]
  },
  {
   "cell_type": "code",
   "execution_count": 66,
   "metadata": {},
   "outputs": [
    {
     "name": "stdout",
     "output_type": "stream",
     "text": [
      "Train Data Size:  (105000, 38523)\n",
      "Test Data Size:  (45000, 25611)\n"
     ]
    }
   ],
   "source": [
    "#Preprocessing data\n",
    "\n",
    "#Preprocessing data\n",
    "\n",
    "uni_gram = CountVectorizer()\n",
    "\n",
    "uni_gram.fit(X_train)\n",
    "X_train=uni_gram.transform(X_train)\n",
    "X_test = uni_gram.transform(X_test) \n",
    "\n",
    "X_train = preprocessing.normalize(X_train)\n",
    "X_test = preprocessing.normalize(X_test)\n",
    "\n",
    "print(\"Train Data Size: \",X_train.shape)\n",
    "print(\"Test Data Size: \",X_test.shape)"
   ]
  },
  {
   "cell_type": "code",
   "execution_count": 67,
   "metadata": {},
   "outputs": [
    {
     "name": "stdout",
     "output_type": "stream",
     "text": [
      "(9550, 38523) (9545, 38523)\n",
      "(19095, 38523) (9545, 38523)\n",
      "(28640, 38523) (9545, 38523)\n",
      "(38185, 38523) (9545, 38523)\n",
      "(47730, 38523) (9545, 38523)\n",
      "(57275, 38523) (9545, 38523)\n",
      "(66820, 38523) (9545, 38523)\n",
      "(76365, 38523) (9545, 38523)\n",
      "(85910, 38523) (9545, 38523)\n",
      "(95455, 38523) (9545, 38523)\n"
     ]
    }
   ],
   "source": [
    "from sklearn.model_selection import TimeSeriesSplit\n",
    "\n",
    "tscv = TimeSeriesSplit(n_splits=10)\n",
    "for train, cv in tscv.split(X_train):\n",
    "\n",
    "    # print(\"%s %s\" % (train, cv))\n",
    "    print(X_train[train].shape, X_train[cv].shape)"
   ]
  },
  {
   "cell_type": "markdown",
   "metadata": {},
   "source": [
    "### Find the best C value"
   ]
  },
  {
   "cell_type": "code",
   "execution_count": 27,
   "metadata": {},
   "outputs": [
    {
     "name": "stdout",
     "output_type": "stream",
     "text": [
      "Fitting 10 folds for each of 30 candidates, totalling 300 fits\n"
     ]
    },
    {
     "name": "stderr",
     "output_type": "stream",
     "text": [
      "[Parallel(n_jobs=1)]: Done 300 out of 300 | elapsed: 25.9min finished\n"
     ]
    },
    {
     "name": "stdout",
     "output_type": "stream",
     "text": [
      "Best HyperParameter:  {'C': 10, 'penalty': 'l2'}\n",
      "Best Accuracy: 90.71%\n",
      "Wall time: 26min 7s\n"
     ]
    }
   ],
   "source": [
    "%%time\n",
    "from sklearn.model_selection import GridSearchCV # Finding the best \"Alpha\" using forward chaining cross validation\n",
    "from sklearn.linear_model import LogisticRegression\n",
    "\n",
    "LR = LogisticRegression()\n",
    "param_grid ={'C':[1000,500,100,50,10,5,1,0.5,0.1,0.05,0.01,0.005\n",
    "                  ,0.001,0.0005,0.0001],'penalty':['l1','l2']} #params we need to try on classifier\n",
    "\n",
    "tscv = TimeSeriesSplit(n_splits=10) #For time based splitting\n",
    "\n",
    "grid = GridSearchCV(LR, param_grid, cv=tscv, verbose=1)# instantiate the grid\n",
    "grid.fit(X_train,y_train)\n",
    "\n",
    "SaveToFile(grid,\"LR-Uni-Gram\")\n",
    "print(\"Best HyperParameter: \",grid.best_params_)\n",
    "print(\"Best Accuracy: %.2f%%\"%(grid.best_score_*100))\n"
   ]
  },
  {
   "cell_type": "code",
   "execution_count": 18,
   "metadata": {},
   "outputs": [
    {
     "data": {
      "image/png": "[encoded data removed]",
      "text/plain": [
       "<Figure size 432x288 with 1 Axes>"
      ]
     },
     "metadata": {},
     "output_type": "display_data"
    }
   ],
   "source": [
    "# plotting of L1 and L2 error\n",
    "def error_vs_c(gsv):\n",
    "    x1=[]\n",
    "    y1=[]\n",
    "    x2=[]\n",
    "    y2=[]\n",
    "    for a in gsv.grid_scores_:\n",
    "        if (a[0]['penalty']) == 'l1':\n",
    "            y1.append(1-a[1])\n",
    "            x1.append(a[0]['C'])\n",
    "        else:\n",
    "            y2.append(1-a[1])\n",
    "            x2.append(a[0]['C'])\n",
    "    plt.xlim(-10,1010)\n",
    "    plt.ylim(0,0.2)\n",
    "    plt.xlabel(\"C\",fontsize=15)\n",
    "    plt.ylabel(\"Misclassification Error\")\n",
    "    plt.title(' Error v/s C')\n",
    "    plt.plot(x1,y1,'g',label=\"L1\")\n",
    "    plt.plot(x2,y2,'r',label=\"L2\")\n",
    "    plt.legend()\n",
    "    plt.show()\n",
    "gscv = OpenFromFile(\"LR-Uni-Gram\")\n",
    "error_vs_c(gscv)"
   ]
  },
  {
   "cell_type": "code",
   "execution_count": 29,
   "metadata": {},
   "outputs": [
    {
     "name": "stdout",
     "output_type": "stream",
     "text": [
      "LogisticRegression(C=10, class_weight=None, dual=False, fit_intercept=True,\n",
      "          intercept_scaling=1, max_iter=100, multi_class='ovr', n_jobs=1,\n",
      "          penalty='l2', random_state=None, solver='liblinear', tol=0.0001,\n",
      "          verbose=0, warm_start=False)\n"
     ]
    }
   ],
   "source": [
    "print(gscv.best_estimator_)"
   ]
  },
  {
   "cell_type": "code",
   "execution_count": 32,
   "metadata": {},
   "outputs": [
    {
     "name": "stdout",
     "output_type": "stream",
     "text": [
      "Accuracy on test set: 90.31%\n",
      "Precision on test set: 92.183\n",
      "Recall on test set: 96.671\n",
      "F1-Score on test set: 94.374\n",
      "Non Zero weights: 38523\n"
     ]
    },
    {
     "data": {
      "text/plain": [
       "<matplotlib.axes._subplots.AxesSubplot at 0x19e25f5ce48>"
      ]
     },
     "execution_count": 32,
     "metadata": {},
     "output_type": "execute_result"
    },
    {
     "data": {
      "image/png": "[encoded data removed]",
      "text/plain": [
       "<Figure size 432x288 with 2 Axes>"
      ]
     },
     "metadata": {},
     "output_type": "display_data"
    }
   ],
   "source": [
    "# testing accuracy on the best_estimator\n",
    "\n",
    "LR = LogisticRegression(C=10,penalty='l2')\n",
    "LR.fit(X_train,y_train)\n",
    "y_pred = LR.predict(X_test)\n",
    "\n",
    "print(\"Accuracy on test set: %0.2f%%\"%(accuracy_score(y_test, y_pred)*100))\n",
    "print(\"Precision on test set: %0.3f\"%(precision_score(y_test, y_pred, pos_label='positive')*100))\n",
    "print(\"Recall on test set: %0.3f\"%(recall_score(y_test, y_pred, pos_label='positive')*100))\n",
    "print(\"F1-Score on test set: %0.3f\"%(f1_score(y_test, y_pred, pos_label='positive')*100))\n",
    "print(\"Non Zero weights:\",np.count_nonzero(LR.coef_))\n",
    "\n",
    "df_cm = pd.DataFrame(confusion_matrix(y_test, y_pred), range(2),range(2))\n",
    "sns.set(font_scale=1.4)#for label size\n",
    "sns.heatmap(df_cm, annot=True,annot_kws={\"size\": 16}, fmt='g',linewidths=.5)"
   ]
  },
  {
   "cell_type": "markdown",
   "metadata": {},
   "source": [
    "### Show how sparsity decrease as if we increase the value of C"
   ]
  },
  {
   "cell_type": "code",
   "execution_count": 31,
   "metadata": {},
   "outputs": [
    {
     "name": "stdout",
     "output_type": "stream",
     "text": [
      "C_value: 1000\n",
      "Accuracy on test set: 86.416%\n",
      "Non Zero weights: 20158\n",
      "----------------------------------------------------------------------------------------------------\n",
      "C_value: 100\n",
      "Accuracy on test set: 87.867%\n",
      "Non Zero weights: 15267\n",
      "----------------------------------------------------------------------------------------------------\n",
      "C_value: 10\n",
      "Accuracy on test set: 89.929%\n",
      "Non Zero weights: 6986\n",
      "----------------------------------------------------------------------------------------------------\n",
      "C_value: 1\n",
      "Accuracy on test set: 90.227%\n",
      "Non Zero weights: 1376\n",
      "----------------------------------------------------------------------------------------------------\n",
      "C_value: 0.1\n",
      "Accuracy on test set: 88.393%\n",
      "Non Zero weights: 262\n",
      "----------------------------------------------------------------------------------------------------\n",
      "C_value: 0.01\n",
      "Accuracy on test set: 84.144%\n",
      "Non Zero weights: 20\n",
      "----------------------------------------------------------------------------------------------------\n",
      "C_value: 0.001\n",
      "Accuracy on test set: 84.036%\n",
      "Non Zero weights: 0\n",
      "----------------------------------------------------------------------------------------------------\n",
      "C_value: 0.0001\n",
      "Accuracy on test set: 84.036%\n",
      "Non Zero weights: 0\n",
      "----------------------------------------------------------------------------------------------------\n"
     ]
    }
   ],
   "source": [
    "\n",
    "C_value = [1000,100,10,1,0.1,0.01,0.001,0.0001]\n",
    "l1_value = ['l1','l1','l1','l1','l1','l1','l1','l1']\n",
    "def sparsity_increase(i,j):\n",
    "    LR = LogisticRegression(C=i,penalty=j)\n",
    "    LR.fit(X_train,y_train)\n",
    "    y_pred = LR.predict(X_test)\n",
    "    print(\"C_value:\",i)\n",
    "    print(\"Accuracy on test set: %0.3f%%\"%(accuracy_score(y_test, y_pred)*100))\n",
    "    print(\"Non Zero weights:\",np.count_nonzero(LR.coef_))\n",
    "    print(\"-\"*100)\n",
    "\n",
    "\n",
    "for i,j in zip(C_value,l1_value):\n",
    "    sparsity_increase(i,j)\n",
    "    \n",
    "    "
   ]
  },
  {
   "cell_type": "markdown",
   "metadata": {},
   "source": [
    "    Here we can see that with the increase of C values Non Zero Weight increases, \n",
    "    At C_value = 0.001 and 0.0001 and l1 regularizer we get 0 non zero weights. \n",
    "    That means sparsity is large and we dont have any non zero value."
   ]
  },
  {
   "cell_type": "markdown",
   "metadata": {},
   "source": [
    "### Logistic Regression using RandomSearch cross validation for uni-gram "
   ]
  },
  {
   "cell_type": "code",
   "execution_count": 33,
   "metadata": {},
   "outputs": [
    {
     "name": "stdout",
     "output_type": "stream",
     "text": [
      "Fitting 10 folds for each of 10 candidates, totalling 100 fits\n"
     ]
    },
    {
     "name": "stderr",
     "output_type": "stream",
     "text": [
      "[Parallel(n_jobs=1)]: Done 100 out of 100 | elapsed:  8.7min finished\n"
     ]
    },
    {
     "name": "stdout",
     "output_type": "stream",
     "text": [
      "Best HyperParameter:  {'penalty': 'l2', 'C': 10}\n",
      "Best Accuracy: 90.71%\n",
      "Wall time: 8min 55s\n"
     ]
    }
   ],
   "source": [
    "%%time\n",
    "lr = LogisticRegression()\n",
    "\n",
    "param_grid = {'C':[1000,500,100,50,10,5,1,0.5,0.1,0.05,0.01,0.005,0.001,0.0005,0.0001],'penalty':['l1','l2']} \n",
    "tscv = TimeSeriesSplit(n_splits=10) #For time based splitting\n",
    "gscv = RandomizedSearchCV(lr,param_grid,cv=tscv,verbose=1) \n",
    "gscv.fit(X_train,y_train)\n",
    "SaveToFile(gscv,\"LR_RandomSearch-Uni-Gram\")\n",
    "print(\"Best HyperParameter: \",gscv.best_params_)\n",
    "print(\"Best Accuracy: %.2f%%\"%(gscv.best_score_*100))"
   ]
  },
  {
   "cell_type": "code",
   "execution_count": 36,
   "metadata": {},
   "outputs": [
    {
     "data": {
      "image/png": "[encoded data removed]",
      "text/plain": [
       "<Figure size 432x288 with 1 Axes>"
      ]
     },
     "metadata": {},
     "output_type": "display_data"
    }
   ],
   "source": [
    "#Function to plot Misclassification error against C\n",
    "gscv = OpenFromFile(\"LR_RandomSearch-Uni-Gram\")\n",
    "error_vs_c(gscv)"
   ]
  },
  {
   "cell_type": "code",
   "execution_count": 35,
   "metadata": {},
   "outputs": [
    {
     "name": "stdout",
     "output_type": "stream",
     "text": [
      "LogisticRegression(C=10, class_weight=None, dual=False, fit_intercept=True,\n",
      "          intercept_scaling=1, max_iter=100, multi_class='ovr', n_jobs=1,\n",
      "          penalty='l2', random_state=None, solver='liblinear', tol=0.0001,\n",
      "          verbose=0, warm_start=False)\n"
     ]
    }
   ],
   "source": [
    "print(gscv.best_estimator_)"
   ]
  },
  {
   "cell_type": "code",
   "execution_count": 48,
   "metadata": {},
   "outputs": [
    {
     "name": "stdout",
     "output_type": "stream",
     "text": [
      "Accuracy on test set: 90.30%\n",
      "Precision on test set: 92.173\n",
      "Recall on test set: 96.663\n",
      "F1-Score on test set: 94.365\n",
      "Non Zero weights: 38523\n",
      "Wall time: 9.96 s\n"
     ]
    },
    {
     "data": {
      "image/png": "[encoded data removed]",
      "text/plain": [
       "<Figure size 432x288 with 2 Axes>"
      ]
     },
     "metadata": {},
     "output_type": "display_data"
    }
   ],
   "source": [
    "%%time\n",
    "# testing accuracy on the best_estimator\n",
    "\n",
    "LR = LogisticRegression(C=10,penalty='l2')\n",
    "LR.fit(X_train,y_train)\n",
    "y_pred = LR.predict(X_test)\n",
    "\n",
    "print(\"Accuracy on test set: %0.2f%%\"%(accuracy_score(y_test, y_pred)*100))\n",
    "print(\"Precision on test set: %0.3f\"%(precision_score(y_test, y_pred, pos_label='positive')*100))\n",
    "print(\"Recall on test set: %0.3f\"%(recall_score(y_test, y_pred, pos_label='positive')*100))\n",
    "print(\"F1-Score on test set: %0.3f\"%(f1_score(y_test, y_pred, pos_label='positive')*100))\n",
    "print(\"Non Zero weights:\",np.count_nonzero(LR.coef_))\n",
    "\n",
    "df_cm = pd.DataFrame(confusion_matrix(y_test, y_pred), range(2),range(2))\n",
    "sns.set(font_scale=1.4)#for label size\n",
    "sns.heatmap(df_cm, annot=True,annot_kws={\"size\": 16}, fmt='g',linewidths=.5)"
   ]
  },
  {
   "cell_type": "markdown",
   "metadata": {},
   "source": [
    "### Perturbation Test"
   ]
  },
  {
   "cell_type": "code",
   "execution_count": 38,
   "metadata": {},
   "outputs": [
    {
     "name": "stdout",
     "output_type": "stream",
     "text": [
      "Accuracy on test set: 90.313%\n",
      "Non Zero weights: 38523\n"
     ]
    }
   ],
   "source": [
    "lr = LogisticRegression(C= 10, penalty= 'l2')\n",
    "lr.fit(X_train,y_train)\n",
    "y_pred = lr.predict(X_test)\n",
    "print(\"Accuracy on test set: %0.3f%%\"%(accuracy_score(y_test, y_pred)*100))\n",
    "print(\"Non Zero weights:\",np.count_nonzero(lr.coef_))\n",
    "#print(dir(np))\n",
    "#print(lr.coef_.size)"
   ]
  },
  {
   "cell_type": "code",
   "execution_count": 39,
   "metadata": {},
   "outputs": [
    {
     "name": "stdout",
     "output_type": "stream",
     "text": [
      "[ 0.22959955  0.02769383  0.00654113  0.01785463  0.01785463  0.00654113\n",
      "  0.00299281  0.0106362   0.00634867  0.00495284  0.05463248  0.05619479\n",
      "  0.00530917 -1.06749079  0.01462368  0.01292867  0.10541176 -0.15542841\n",
      "  0.11012422  0.19373848  0.00372414  0.00655134  0.17295654  0.00191956\n",
      "  0.273013    0.12531101 -1.30802224  0.02479664  0.1105268  -0.54594398\n",
      "  0.07473946 -1.68978546  0.40068942  0.01883747  0.13333569  0.15656358\n",
      "  0.12240088 -0.54184479  1.07516448 -0.93276758  0.17495965  0.06166258\n",
      "  0.02739986 -0.54089298  0.37617412 -0.26017884  0.09690935  0.21000545\n",
      "  0.00319336 -0.73238522]\n"
     ]
    }
   ],
   "source": [
    "from scipy.sparse import find\n",
    "#Weights before adding random noise\n",
    "weights1 = find(lr.coef_[0])[2]\n",
    "print(weights1[:50])"
   ]
  },
  {
   "cell_type": "code",
   "execution_count": 40,
   "metadata": {},
   "outputs": [],
   "source": [
    "X_train_t = X_train\n",
    "#Random noise\n",
    "epsilon = np.random.uniform(low=-0.01, high=0.01, size=(find(X_train_t)[0].size,))\n",
    "#Getting the postions(row and column) and value of non-zero datapoints \n",
    "a,b,c = find(X_train_t)\n",
    "\n",
    "#Introducing random noise to non-zero datapoints\n",
    "X_train_t[a,b] = epsilon + X_train_t[a,b]\n",
    "#print(X_train_t)\n",
    "#print(epsilon)"
   ]
  },
  {
   "cell_type": "code",
   "execution_count": 41,
   "metadata": {},
   "outputs": [
    {
     "name": "stdout",
     "output_type": "stream",
     "text": [
      "Accuracy on test set: 90.298%\n",
      "Non Zero weights: 38523\n"
     ]
    }
   ],
   "source": [
    "lr = LogisticRegression(C= 10, penalty= 'l2')\n",
    "lr.fit(X_train_t,y_train)#here is the change\n",
    "y_pred = lr.predict(X_test)\n",
    "print(\"Accuracy on test set: %0.3f%%\"%(accuracy_score(y_test, y_pred)*100))\n",
    "print(\"Non Zero weights:\",np.count_nonzero(lr.coef_))"
   ]
  },
  {
   "cell_type": "code",
   "execution_count": 42,
   "metadata": {},
   "outputs": [
    {
     "name": "stdout",
     "output_type": "stream",
     "text": [
      "[ 0.24192824  0.03056787  0.00625709  0.02239777  0.02156479  0.00698248\n",
      "  0.0031956   0.01063307  0.00755919  0.00606763  0.04407813  0.05275686\n",
      "  0.00651099 -1.09837568  0.01646571  0.0151125   0.10120348 -0.18880752\n",
      "  0.1153571   0.19401155  0.00399589  0.00644823  0.16108238  0.00185347\n",
      "  0.29530647  0.13125347 -1.25165252  0.02785464  0.11110793 -0.51293364\n",
      "  0.06505957 -1.71860612  0.40496988  0.01836217  0.13203888  0.16112345\n",
      "  0.11684308 -0.55308113  1.02787996 -0.90887936  0.18031506  0.06249739\n",
      "  0.02555603 -0.54759394  0.31722894 -0.2656791   0.09271546  0.22061393\n",
      "  0.00298457 -0.73675312]\n"
     ]
    }
   ],
   "source": [
    "from scipy.sparse import find\n",
    "#Weights after adding random noise\n",
    "weights2 = find(lr.coef_[0])[2]\n",
    "print(weights2[:50])"
   ]
  },
  {
   "cell_type": "code",
   "execution_count": 43,
   "metadata": {},
   "outputs": [],
   "source": [
    "weights_diff = (abs(weights1 - weights2)/weights1) * 100\n",
    "#print(weights_diff)"
   ]
  },
  {
   "cell_type": "code",
   "execution_count": 44,
   "metadata": {},
   "outputs": [
    {
     "name": "stdout",
     "output_type": "stream",
     "text": [
      "911\n"
     ]
    }
   ],
   "source": [
    "print(weights_diff[np.where(weights_diff > 30)].size)"
   ]
  },
  {
   "cell_type": "markdown",
   "metadata": {},
   "source": [
    "#### weights_diff is 911 , SoThere is  multi collinearity in this data"
   ]
  },
  {
   "cell_type": "code",
   "execution_count": 45,
   "metadata": {},
   "outputs": [
    {
     "name": "stdout",
     "output_type": "stream",
     "text": [
      "\t\t\tPositive\t\t\t\t\t\tNegative\n",
      "________________________________________________________________________________________________\n",
      "\t-11.9491\tworst          \t\t\t\t8.5708\tawesom         \n",
      "\t-10.4328\ttasteless      \t\t\t\t8.2752\thook           \n",
      "\t-9.8789\tthrew          \t\t\t\t8.2401\tdelici         \n",
      "\t-9.8413\tundrink        \t\t\t\t8.1334\tbeat           \n",
      "\t-9.7391\tdisgust        \t\t\t\t7.5954\tperfect        \n",
      "\t-9.7223\taw             \t\t\t\t7.5620\taddict         \n",
      "\t-9.2114\thorribl        \t\t\t\t7.4625\tyum            \n",
      "\t-8.7687\tyuck           \t\t\t\t7.3716\tworri          \n",
      "\t-8.7128\tterribl        \t\t\t\t7.3462\tamaz           \n",
      "\t-8.2059\tgross          \t\t\t\t7.1507\tbest           \n",
      "\t-7.7484\tunapp          \t\t\t\t7.0583\theaven         \n",
      "\t-7.6744\tunaccept       \t\t\t\t6.9828\tuniqu          \n",
      "\t-7.6144\tdisappoint     \t\t\t\t6.9683\tcomplaint      \n",
      "\t-7.5041\trefund         \t\t\t\t6.9484\tfantast        \n",
      "\t-7.2512\tvomit          \t\t\t\t6.8881\tyummi          \n",
      "\t-7.2348\trancid         \t\t\t\t6.8358\tsolv           \n",
      "\t-7.1865\tskip           \t\t\t\t6.7729\texcel          \n",
      "\t-7.1184\tjune           \t\t\t\t6.7256\tskeptic        \n",
      "\t-7.0372\tredeem         \t\t\t\t6.6689\tdownsid        \n",
      "\t-7.0332\twhere          \t\t\t\t6.2354\tterrif         \n",
      "\t-6.9935\tdiarrhea       \t\t\t\t6.1844\tfinest         \n",
      "\t-6.9192\tined           \t\t\t\t6.1561\tglad           \n",
      "\t-6.9150\tnasti          \t\t\t\t6.0937\tgreat          \n",
      "\t-6.9092\tunpleas        \t\t\t\t6.0817\tsmooth         \n",
      "\t-6.8995\tflavorless     \t\t\t\t5.9240\tbeauti         \n"
     ]
    }
   ],
   "source": [
    "def show_most_informative_features(vectorizer, clf, n=25):\n",
    "    feature_names = vectorizer.get_feature_names()\n",
    "    coefs_with_fns = sorted(zip(clf.coef_[0], feature_names))\n",
    "    top = zip(coefs_with_fns[:n], coefs_with_fns[:-(n + 1):-1])\n",
    "    print(\"\\t\\t\\tPositive\\t\\t\\t\\t\\t\\tNegative\")\n",
    "    print(\"________________________________________________________________________________________________\")\n",
    "    for (coef_1, fn_1), (coef_2, fn_2) in top:\n",
    "        print(\"\\t%.4f\\t%-15s\\t\\t\\t\\t%.4f\\t%-15s\" % (coef_1, fn_1, coef_2, fn_2))\n",
    "        \n",
    "show_most_informative_features(uni_gram,lr)\n",
    "#Code Reference:https://stackoverflow.com/questions/11116697/how-to-get-most-informative-features-for-scikit-learn-classifiers"
   ]
  },
  {
   "cell_type": "markdown",
   "metadata": {},
   "source": [
    "## Logistic Regression TF-IDF \n",
    "#### GridSearch"
   ]
  },
  {
   "cell_type": "code",
   "execution_count": 42,
   "metadata": {},
   "outputs": [
    {
     "name": "stdout",
     "output_type": "stream",
     "text": [
      "Train Data Size:  (105000, 1308616)\n",
      "Test Data Size:  (45000, 1308616)\n",
      "Wall time: 39.1 s\n"
     ]
    }
   ],
   "source": [
    "%%time\n",
    "X_train, X_test, y_train, y_test = train_test_split(final_150000['clean_text'].values,\n",
    "                                                    final_150000['Score'].values ,test_size=0.30,shuffle=False)\n",
    "tfidf = TfidfVectorizer(ngram_range=(1,2))\n",
    "tfidf.fit(X_train)\n",
    "X_train = tfidf.transform(X_train)\n",
    "\n",
    "#Normalize Data\n",
    "X_train = preprocessing.normalize(X_train)\n",
    "print(\"Train Data Size: \",X_train.shape)\n",
    "X_test = tfidf.transform(X_test)\n",
    "#Normalize Data\n",
    "X_test = preprocessing.normalize(X_test)\n",
    "print(\"Test Data Size: \",X_test.shape)"
   ]
  },
  {
   "cell_type": "code",
   "execution_count": 76,
   "metadata": {},
   "outputs": [
    {
     "name": "stdout",
     "output_type": "stream",
     "text": [
      "Fitting 10 folds for each of 30 candidates, totalling 300 fits\n"
     ]
    },
    {
     "name": "stderr",
     "output_type": "stream",
     "text": [
      "[Parallel(n_jobs=1)]: Done 300 out of 300 | elapsed: 35.3min finished\n"
     ]
    },
    {
     "name": "stdout",
     "output_type": "stream",
     "text": [
      "Best HyperParameter:  {'C': 5, 'penalty': 'l1'}\n",
      "Best Accuracy: 91.03%\n",
      "Wall time: 35min 32s\n"
     ]
    }
   ],
   "source": [
    "%%time\n",
    "lr = LogisticRegression()\n",
    "#params we need to try on classifier\n",
    "param_grid = {'C':[1000,500,100,50,10,5,1,0.5,0.1,0.05,0.01,0.005,0.001,0.0005,0.0001],'penalty':['l1','l2']} \n",
    "tscv = TimeSeriesSplit(n_splits=10) #For time based splitting\n",
    "gscv = GridSearchCV(lr,param_grid,cv=tscv,verbose=1)\n",
    "gscv.fit(X_train,y_train)\n",
    "SaveToFile(gscv,\"LR-GridSearch-TF-IDF\")\n",
    "print(\"Best HyperParameter: \",gscv.best_params_)\n",
    "print(\"Best Accuracy: %.2f%%\"%(gscv.best_score_*100))"
   ]
  },
  {
   "cell_type": "code",
   "execution_count": 77,
   "metadata": {},
   "outputs": [
    {
     "data": {
      "image/png": "[encoded data removed]",
      "text/plain": [
       "<Figure size 432x288 with 1 Axes>"
      ]
     },
     "metadata": {},
     "output_type": "display_data"
    }
   ],
   "source": [
    "gscv = OpenFromFile(\"LR-GridSearch-TF-IDF\")\n",
    "error_vs_c(gscv)"
   ]
  },
  {
   "cell_type": "code",
   "execution_count": 78,
   "metadata": {},
   "outputs": [
    {
     "name": "stdout",
     "output_type": "stream",
     "text": [
      "LogisticRegression(C=5, class_weight=None, dual=False, fit_intercept=True,\n",
      "          intercept_scaling=1, max_iter=100, multi_class='ovr', n_jobs=1,\n",
      "          penalty='l1', random_state=None, solver='liblinear', tol=0.0001,\n",
      "          verbose=0, warm_start=False)\n"
     ]
    }
   ],
   "source": [
    "print(gscv.best_estimator_)"
   ]
  },
  {
   "cell_type": "code",
   "execution_count": 86,
   "metadata": {},
   "outputs": [
    {
     "name": "stdout",
     "output_type": "stream",
     "text": [
      "Accuracy on test set: 91.02%\n",
      "Precision on test set: 93.320\n",
      "Recall on test set: 96.197\n",
      "F1-Score on test set: 94.737\n",
      "Non Zero weights: 10553\n"
     ]
    },
    {
     "data": {
      "text/plain": [
       "<matplotlib.axes._subplots.AxesSubplot at 0x19e3bde1c50>"
      ]
     },
     "execution_count": 86,
     "metadata": {},
     "output_type": "execute_result"
    },
    {
     "data": {
      "image/png": "[encoded data removed]",
      "text/plain": [
       "<Figure size 432x288 with 2 Axes>"
      ]
     },
     "metadata": {},
     "output_type": "display_data"
    }
   ],
   "source": [
    "LR = LogisticRegression(C= 5, penalty= 'l1')\n",
    "LR.fit(X_train,y_train)\n",
    "y_pred = LR.predict(X_test)\n",
    "\n",
    "print(\"Accuracy on test set: %0.2f%%\"%(accuracy_score(y_test, y_pred)*100))\n",
    "print(\"Precision on test set: %0.3f\"%(precision_score(y_test, y_pred, pos_label='positive')*100))\n",
    "print(\"Recall on test set: %0.3f\"%(recall_score(y_test, y_pred, pos_label='positive')*100))\n",
    "print(\"F1-Score on test set: %0.3f\"%(f1_score(y_test, y_pred, pos_label='positive')*100))\n",
    "print(\"Non Zero weights:\",np.count_nonzero(LR.coef_))\n",
    "\n",
    "df_cm = pd.DataFrame(confusion_matrix(y_test, y_pred), range(2),range(2))\n",
    "sns.set(font_scale=1.4)#for label size\n",
    "sns.heatmap(df_cm, annot=True,annot_kws={\"size\": 16}, fmt='g',linewidths=.5)"
   ]
  },
  {
   "cell_type": "markdown",
   "metadata": {},
   "source": [
    "### Show how sparsity increases as we increase lambda (C=i/lamda) when L1 Regularizer is used"
   ]
  },
  {
   "cell_type": "code",
   "execution_count": 15,
   "metadata": {},
   "outputs": [
    {
     "name": "stdout",
     "output_type": "stream",
     "text": [
      "C_value: 1000\n",
      "Accuracy on test set: 90.209%\n",
      "Non Zero weights: 31327\n",
      "----------------------------------------------------------------------------------------------------\n",
      "C_value: 100\n",
      "Accuracy on test set: 90.124%\n",
      "Non Zero weights: 23828\n",
      "----------------------------------------------------------------------------------------------------\n",
      "C_value: 10\n",
      "Accuracy on test set: 90.540%\n",
      "Non Zero weights: 16784\n",
      "----------------------------------------------------------------------------------------------------\n",
      "C_value: 1\n",
      "Accuracy on test set: 90.442%\n",
      "Non Zero weights: 1239\n",
      "----------------------------------------------------------------------------------------------------\n",
      "C_value: 0.1\n",
      "Accuracy on test set: 87.358%\n",
      "Non Zero weights: 131\n",
      "----------------------------------------------------------------------------------------------------\n",
      "C_value: 0.01\n",
      "Accuracy on test set: 83.976%\n",
      "Non Zero weights: 2\n",
      "----------------------------------------------------------------------------------------------------\n",
      "C_value: 0.001\n",
      "Accuracy on test set: 83.976%\n",
      "Non Zero weights: 0\n",
      "----------------------------------------------------------------------------------------------------\n",
      "C_value: 0.0001\n",
      "Accuracy on test set: 83.976%\n",
      "Non Zero weights: 0\n",
      "----------------------------------------------------------------------------------------------------\n"
     ]
    }
   ],
   "source": [
    "### Show how sparsity increase as if we increase the value of lamba\n",
    "C_value = [1000,100,10,1,0.1,0.01,0.001,0.0001]\n",
    "l1_value = ['l1','l1','l1','l1','l1','l1','l1','l1']\n",
    "def sparsity_increase(i,j):\n",
    "    lr = LogisticRegression(C=i,penalty=j)\n",
    "    lr.fit(X_train,y_train)\n",
    "    y_pred = lr.predict(X_test)\n",
    "    print(\"C_value:\",i)\n",
    "    #print(\"C_value is: {} and l1_value is: {}\".format(i,j))\n",
    "    print(\"Accuracy on test set: %0.3f%%\"%(accuracy_score(y_test, y_pred)*100))\n",
    "    print(\"Non Zero weights:\",np.count_nonzero(lr.coef_))\n",
    "    print(\"-\"*100)\n",
    "\n",
    "\n",
    "for i,j in zip(C_value,l1_value):\n",
    "    sparsity_increase(i,j)"
   ]
  },
  {
   "cell_type": "markdown",
   "metadata": {},
   "source": [
    "#### Random Search"
   ]
  },
  {
   "cell_type": "code",
   "execution_count": 16,
   "metadata": {},
   "outputs": [
    {
     "name": "stdout",
     "output_type": "stream",
     "text": [
      "Fitting 10 folds for each of 10 candidates, totalling 100 fits\n"
     ]
    },
    {
     "name": "stderr",
     "output_type": "stream",
     "text": [
      "[Parallel(n_jobs=1)]: Done 100 out of 100 | elapsed:  7.3min finished\n"
     ]
    },
    {
     "name": "stdout",
     "output_type": "stream",
     "text": [
      "Best HyperParameter:  {'penalty': 'l1', 'C': 5}\n",
      "Best Accuracy: 90.87%\n",
      "Wall time: 7min 30s\n"
     ]
    }
   ],
   "source": [
    "%%time\n",
    "lr = LogisticRegression()\n",
    "#params we need to try on classifier\n",
    "param_grid = {'C':[1000,500,100,50,10,5,1,0.5,0.1,0.05,0.01,0.005,0.001,0.0005,0.0001]\n",
    "              ,'penalty':['l1','l2']}\n",
    "tscv = TimeSeriesSplit(n_splits=10) #For time based splitting\n",
    "gscv = RandomizedSearchCV(lr,param_grid,cv=tscv,verbose=1)\n",
    "gscv.fit(X_train,y_train)\n",
    "SaveToFile(gscv,\"LR-RandomSearch-TF_IDF\")\n",
    "print(\"Best HyperParameter: \",gscv.best_params_)\n",
    "print(\"Best Accuracy: %.2f%%\"%(gscv.best_score_*100))"
   ]
  },
  {
   "cell_type": "code",
   "execution_count": 19,
   "metadata": {},
   "outputs": [
    {
     "data": {
      "image/png": "[encoded data removed]",
      "text/plain": [
       "<Figure size 432x288 with 1 Axes>"
      ]
     },
     "metadata": {},
     "output_type": "display_data"
    }
   ],
   "source": [
    "gscv = OpenFromFile(\"LR-RandomSearch-TF_IDF\")\n",
    "error_vs_c(gscv)"
   ]
  },
  {
   "cell_type": "code",
   "execution_count": 20,
   "metadata": {},
   "outputs": [
    {
     "name": "stdout",
     "output_type": "stream",
     "text": [
      "Accuracy on test set: 90.84%\n",
      "Precision on test set: 93.138\n",
      "Recall on test set: 96.181\n",
      "F1-Score on test set: 94.635\n",
      "Non Zero weights: 10680\n"
     ]
    },
    {
     "data": {
      "text/plain": [
       "<matplotlib.axes._subplots.AxesSubplot at 0x24e167d1668>"
      ]
     },
     "execution_count": 20,
     "metadata": {},
     "output_type": "execute_result"
    },
    {
     "data": {
      "image/png": "[encoded data removed]",
      "text/plain": [
       "<Figure size 432x288 with 2 Axes>"
      ]
     },
     "metadata": {},
     "output_type": "display_data"
    }
   ],
   "source": [
    "#Testing Accuracy on Test data\n",
    "\n",
    "LR = LogisticRegression(C= 5, penalty= 'l1')\n",
    "LR.fit(X_train,y_train)\n",
    "y_pred = LR.predict(X_test)\n",
    "print(\"Accuracy on test set: %0.2f%%\"%(accuracy_score(y_test, y_pred)*100))\n",
    "print(\"Precision on test set: %0.3f\"%(precision_score(y_test, y_pred, pos_label='positive')*100))\n",
    "print(\"Recall on test set: %0.3f\"%(recall_score(y_test, y_pred, pos_label='positive')*100))\n",
    "print(\"F1-Score on test set: %0.3f\"%(f1_score(y_test, y_pred, pos_label='positive')*100))\n",
    "print(\"Non Zero weights:\",np.count_nonzero(LR.coef_))\n",
    "df_cm = pd.DataFrame(confusion_matrix(y_test, y_pred), range(2),range(2))\n",
    "sns.set(font_scale=1.4)#for label size\n",
    "sns.heatmap(df_cm, annot=True,annot_kws={\"size\": 16}, fmt='g',linewidths=.5)"
   ]
  },
  {
   "cell_type": "markdown",
   "metadata": {},
   "source": [
    "### Perturbation Test"
   ]
  },
  {
   "cell_type": "code",
   "execution_count": 57,
   "metadata": {},
   "outputs": [
    {
     "name": "stdout",
     "output_type": "stream",
     "text": [
      "Accuracy on test set: 90.600%\n",
      "Non Zero weights: 15468\n"
     ]
    }
   ],
   "source": [
    "lr = LogisticRegression(C= 10, penalty= 'l1')\n",
    "lr.fit(X_train,y_train)\n",
    "y_pred = lr.predict(X_test)\n",
    "print(\"Accuracy on test set: %0.3f%%\"%(accuracy_score(y_test, y_pred)*100))\n",
    "print(\"Non Zero weights:\",np.count_nonzero(lr.coef_))"
   ]
  },
  {
   "cell_type": "code",
   "execution_count": 61,
   "metadata": {},
   "outputs": [],
   "source": [
    "from scipy.sparse import find\n",
    "#Weights before adding random noise\n",
    "weights1 = find(lr.coef_[0])[2]\n",
    "#print(weights1[:50])\n",
    "weightBefore=weights1[:15000]\n",
    "#print(len(weightBefore))"
   ]
  },
  {
   "cell_type": "code",
   "execution_count": 62,
   "metadata": {},
   "outputs": [],
   "source": [
    "X_train_t = X_train\n",
    "#Random noise\n",
    "epsilon = np.random.uniform(low=-0.01, high=0.01, size=(find(X_train_t)[0].size,))\n",
    "#Getting the postions(row and column) and value of non-zero datapoints \n",
    "a,b,c = find(X_train_t)\n",
    "\n",
    "#Introducing random noise to non-zero datapoints\n",
    "X_train_t[a,b] = epsilon + X_train_t[a,b]"
   ]
  },
  {
   "cell_type": "code",
   "execution_count": 63,
   "metadata": {},
   "outputs": [
    {
     "name": "stdout",
     "output_type": "stream",
     "text": [
      "Accuracy on test set: 90.631%\n",
      "Non Zero weights: 15589\n"
     ]
    }
   ],
   "source": [
    "lr = LogisticRegression(C=10, penalty= 'l1')\n",
    "lr.fit(X_train_t,y_train)\n",
    "y_pred = lr.predict(X_test)\n",
    "print(\"Accuracy on test set: %0.3f%%\"%(accuracy_score(y_test, y_pred)*100))\n",
    "print(\"Non Zero weights:\",np.count_nonzero(lr.coef_))"
   ]
  },
  {
   "cell_type": "code",
   "execution_count": 64,
   "metadata": {},
   "outputs": [],
   "source": [
    "from scipy.sparse import find\n",
    "#Weights after adding random noise\n",
    "weights2 = find(lr.coef_[0])[2]\n",
    "#print(weights2[:50])\n",
    "weightAfter=weights2[:15000]"
   ]
  },
  {
   "cell_type": "code",
   "execution_count": 65,
   "metadata": {},
   "outputs": [
    {
     "name": "stdout",
     "output_type": "stream",
     "text": [
      "5413\n"
     ]
    }
   ],
   "source": [
    "weights_diff = (abs(weightAfter - weightBefore)/weightBefore) * 100\n",
    "print(weights_diff[np.where(weights_diff > 30)].size)"
   ]
  },
  {
   "cell_type": "markdown",
   "metadata": {},
   "source": [
    "#### hence, weight diff is 5413 So There is  multi collinear!!!!"
   ]
  },
  {
   "cell_type": "code",
   "execution_count": 66,
   "metadata": {},
   "outputs": [
    {
     "name": "stdout",
     "output_type": "stream",
     "text": [
      "\t\t\tPositive\t\t\t\t\t\tNegative\n",
      "________________________________________________________________________________________________\n",
      "\t-45.4411\ttwo star       \t\t\t\t41.2952\thigh recommend \n",
      "\t-39.6636\tgreat strength \t\t\t\t36.7070\tfour star      \n",
      "\t-34.5574\tdiabet diabet  \t\t\t\t32.0839\tdelici         \n",
      "\t-34.3799\trestaur know   \t\t\t\t31.1237\tgood place     \n",
      "\t-34.1253\toat roll       \t\t\t\t30.2059\tgreat          \n",
      "\t-33.5921\tget came       \t\t\t\t29.8564\tpleasant surpris\n",
      "\t-33.0516\ttri vacuum     \t\t\t\t27.8280\tiniti unpleas  \n",
      "\t-32.9782\tsweet adult    \t\t\t\t26.5075\twont sorri     \n",
      "\t-31.9411\tlimb perfect   \t\t\t\t25.4264\tamaz           \n",
      "\t-31.6336\tstill energi   \t\t\t\t25.2745\tperfect        \n",
      "\t-31.4493\tcool perfect   \t\t\t\t24.9249\tbest           \n",
      "\t-30.8957\twant perfect   \t\t\t\t24.2849\told jordan     \n",
      "\t-30.4316\tviolet flavour \t\t\t\t23.9483\tcorrect mistak \n",
      "\t-30.1363\tworst          \t\t\t\t23.8293\tcould wors     \n",
      "\t-29.9191\tstill yet      \t\t\t\t23.3753\tyay            \n",
      "\t-29.5042\tfig arriv      \t\t\t\t23.3627\twont disappoint\n",
      "\t-29.3385\tcrunchi littl  \t\t\t\t23.0562\texcel          \n",
      "\t-29.1822\tplanter trail  \t\t\t\t22.5292\tlove           \n",
      "\t-28.5682\tslight help    \t\t\t\t22.5103\ttomato product \n",
      "\t-28.5352\tless also      \t\t\t\t22.3136\tsteal          \n",
      "\t-28.2530\tlike chlorin   \t\t\t\t21.6674\tbewar dont     \n",
      "\t-27.9570\tcant someth    \t\t\t\t21.4400\tsalt jalapeno  \n",
      "\t-27.6181\tbenefit dog    \t\t\t\t20.7727\tdisappoint seem\n",
      "\t-27.5637\tchewer year    \t\t\t\t20.7269\tleft aftertast \n",
      "\t-27.2743\tdeliveri superb\t\t\t\t20.4773\treceiv star    \n"
     ]
    }
   ],
   "source": [
    "def show_most_informative_features(vectorizer, clf, n=25):\n",
    "    feature_names = vectorizer.get_feature_names()\n",
    "    coefs_with_fns = sorted(zip(clf.coef_[0], feature_names))\n",
    "    top = zip(coefs_with_fns[:n], coefs_with_fns[:-(n + 1):-1])\n",
    "    print(\"\\t\\t\\tPositive\\t\\t\\t\\t\\t\\tNegative\")\n",
    "    print(\"________________________________________________________________________________________________\")\n",
    "    for (coef_1, fn_1), (coef_2, fn_2) in top:\n",
    "        print(\"\\t%.4f\\t%-15s\\t\\t\\t\\t%.4f\\t%-15s\" % (coef_1, fn_1, coef_2, fn_2))\n",
    "        \n",
    "show_most_informative_features(tfidf,lr)\n",
    "#Code Reference:https://stackoverflow.com/questions/11116697/how-to-get-most-informative-features-for-scikit-learn-classifiers"
   ]
  },
  {
   "cell_type": "markdown",
   "metadata": {},
   "source": [
    "## Logistic Regression Word2Vec(Avg)"
   ]
  },
  {
   "cell_type": "code",
   "execution_count": 67,
   "metadata": {},
   "outputs": [],
   "source": [
    "# Train your own Word2Vec model using your own text corpus\n",
    "import gensim\n",
    "i=0\n",
    "list_of_sent=[]\n",
    "for sent in final_150000['clean_text'].values:\n",
    "    filtered_sentence=[]\n",
    "    sent=cleanhtml(sent)\n",
    "    for w in sent.split():\n",
    "        for cleaned_words in cleanpunc(w).split():\n",
    "            if(cleaned_words.isalpha()):    \n",
    "                filtered_sentence.append(cleaned_words.lower())\n",
    "            else:\n",
    "                continue \n",
    "    list_of_sent.append(filtered_sentence)"
   ]
  },
  {
   "cell_type": "code",
   "execution_count": 68,
   "metadata": {},
   "outputs": [
    {
     "data": {
      "text/plain": [
       "150000"
      ]
     },
     "execution_count": 68,
     "metadata": {},
     "output_type": "execute_result"
    }
   ],
   "source": [
    "len(list_of_sent)"
   ]
  },
  {
   "cell_type": "code",
   "execution_count": 69,
   "metadata": {},
   "outputs": [
    {
     "name": "stdout",
     "output_type": "stream",
     "text": [
      "15073\n"
     ]
    }
   ],
   "source": [
    "#defining a word2vec model\n",
    "w2v_model=gensim.models.Word2Vec(list_of_sent,min_count=5,size=50, workers=4)    \n",
    "words=list(w2v_model.wv.vocab)\n",
    "print(len(words))"
   ]
  },
  {
   "cell_type": "code",
   "execution_count": 70,
   "metadata": {},
   "outputs": [
    {
     "name": "stdout",
     "output_type": "stream",
     "text": [
      "150000\n",
      "50\n"
     ]
    }
   ],
   "source": [
    "# average Word2Vec\n",
    "# compute average word2vec for each review.\n",
    "sent_vectors = []; # the avg-w2v for each sentence/review is stored in this list\n",
    "for sent in list_of_sent: # for each review/sentence\n",
    "    sent_vec = np.zeros(50) # as word vectors are of zero length\n",
    "    cnt_words =0; # num of words with a valid vector in the sentence/review\n",
    "    for word in sent: # for each word in a review/sentence\n",
    "        try:\n",
    "            vec = w2v_model.wv[word]\n",
    "            sent_vec += vec\n",
    "            cnt_words += 1\n",
    "        except:\n",
    "            pass\n",
    "    sent_vec /= cnt_words\n",
    "    sent_vectors.append(sent_vec)\n",
    "print(len(sent_vectors))\n",
    "print(len(sent_vectors[0]))"
   ]
  },
  {
   "cell_type": "code",
   "execution_count": 71,
   "metadata": {},
   "outputs": [
    {
     "data": {
      "text/plain": [
       "array([], shape=(0, 2), dtype=int64)"
      ]
     },
     "execution_count": 71,
     "metadata": {},
     "output_type": "execute_result"
    }
   ],
   "source": [
    "np.argwhere(np.isnan(sent_vectors))#checking for Nan fields"
   ]
  },
  {
   "cell_type": "code",
   "execution_count": 73,
   "metadata": {},
   "outputs": [
    {
     "name": "stdout",
     "output_type": "stream",
     "text": [
      "Train Data Size:  (105000, 50)\n",
      "Test Data Size:  (45000, 50)\n",
      "Wall time: 406 ms\n"
     ]
    }
   ],
   "source": [
    "%%time\n",
    "#from sklearn.feature_extraction.text import TfidfVectorizer\n",
    "from sklearn import preprocessing\n",
    "from sklearn.model_selection import train_test_split\n",
    "\n",
    "X_train_AvgWord2Vec, X_test, y_train, y_test = train_test_split(sent_vectors,final_150000['Score'].values ,\n",
    "                                                            test_size=0.30,shuffle=False)\n",
    "\n",
    "X_train_AvgWord2Vec_final = preprocessing.normalize(X_train_AvgWord2Vec)\n",
    "print(\"Train Data Size: \",X_train_AvgWord2Vec_final.shape)\n",
    "\n",
    "X_test = preprocessing.normalize(X_test)\n",
    "print(\"Test Data Size: \",X_test.shape)"
   ]
  },
  {
   "cell_type": "code",
   "execution_count": 74,
   "metadata": {},
   "outputs": [
    {
     "name": "stdout",
     "output_type": "stream",
     "text": [
      "Fitting 10 folds for each of 30 candidates, totalling 300 fits\n"
     ]
    },
    {
     "name": "stderr",
     "output_type": "stream",
     "text": [
      "[Parallel(n_jobs=1)]: Done 300 out of 300 | elapsed: 10.9min finished\n"
     ]
    },
    {
     "name": "stdout",
     "output_type": "stream",
     "text": [
      "Best HyperParameter:  {'C': 1, 'penalty': 'l1'}\n",
      "Best Accuracy: 89.06%\n",
      "Wall time: 11min 3s\n"
     ]
    }
   ],
   "source": [
    "%%time\n",
    "lr = LogisticRegression()\n",
    "\n",
    "#params we need to try on classifier\n",
    "param_grid = {'C':[1000,500,100,50,10,5,1,0.5,0.1,0.05,0.01,0.005,0.001,0.0005,0.0001],'penalty':['l1','l2']} \n",
    "tscv = TimeSeriesSplit(n_splits=10) #For time based splitting\n",
    "gscv = GridSearchCV(lr,param_grid,cv=tscv,verbose=1)\n",
    "gscv.fit(X_train_AvgWord2Vec_final,y_train)\n",
    "SaveToFile(gscv,\"LR-AvgWord2Vec\")\n",
    "\n",
    "print(\"Best HyperParameter: \",gscv.best_params_)\n",
    "print(\"Best Accuracy: %.2f%%\"%(gscv.best_score_*100))"
   ]
  },
  {
   "cell_type": "code",
   "execution_count": 75,
   "metadata": {},
   "outputs": [
    {
     "data": {
      "image/png": "[encoded data removed]",
      "text/plain": [
       "<Figure size 432x288 with 1 Axes>"
      ]
     },
     "metadata": {},
     "output_type": "display_data"
    }
   ],
   "source": [
    "gscv = OpenFromFile(\"LR-AvgWord2Vec\")\n",
    "error_vs_c(gscv)"
   ]
  },
  {
   "cell_type": "code",
   "execution_count": 76,
   "metadata": {},
   "outputs": [
    {
     "name": "stdout",
     "output_type": "stream",
     "text": [
      "LogisticRegression(C=1, class_weight=None, dual=False, fit_intercept=True,\n",
      "          intercept_scaling=1, max_iter=100, multi_class='ovr', n_jobs=1,\n",
      "          penalty='l1', random_state=None, solver='liblinear', tol=0.0001,\n",
      "          verbose=0, warm_start=False)\n"
     ]
    }
   ],
   "source": [
    "print(gscv.best_estimator_)"
   ]
  },
  {
   "cell_type": "code",
   "execution_count": 80,
   "metadata": {},
   "outputs": [
    {
     "name": "stdout",
     "output_type": "stream",
     "text": [
      "Accuracy on test set: 87.80%\n",
      "Precision on test set: 89.735\n",
      "Recall on test set: 96.515\n",
      "F1-Score on test set: 93.002\n",
      "Non Zero weights: 50\n"
     ]
    },
    {
     "data": {
      "text/plain": [
       "<matplotlib.axes._subplots.AxesSubplot at 0x24e1a9bcdd8>"
      ]
     },
     "execution_count": 80,
     "metadata": {},
     "output_type": "execute_result"
    },
    {
     "data": {
      "image/png": "[encoded data removed]",
      "text/plain": [
       "<Figure size 432x288 with 2 Axes>"
      ]
     },
     "metadata": {},
     "output_type": "display_data"
    }
   ],
   "source": [
    "#Testing Accuracy on Test data with best hyper parametrs\n",
    "from sklearn.linear_model import LogisticRegression\n",
    "\n",
    "lr = LogisticRegression(C= 1, penalty= 'l1')\n",
    "lr.fit(X_train_AvgWord2Vec_final,y_train)\n",
    "y_pred = lr.predict(X_test)\n",
    "print(\"Accuracy on test set: %0.2f%%\"%(accuracy_score(y_test, y_pred)*100))\n",
    "print(\"Precision on test set: %0.3f\"%(precision_score(y_test, y_pred, pos_label='positive')*100))\n",
    "print(\"Recall on test set: %0.3f\"%(recall_score(y_test, y_pred, pos_label='positive')*100))\n",
    "print(\"F1-Score on test set: %0.3f\"%(f1_score(y_test, y_pred, pos_label='positive')*100))\n",
    "print(\"Non Zero weights:\",np.count_nonzero(lr.coef_))\n",
    "df_cm = pd.DataFrame(confusion_matrix(y_test, y_pred), range(2),range(2))\n",
    "sns.set(font_scale=1.4)#for label size\n",
    "sns.heatmap(df_cm, annot=True,annot_kws={\"size\": 16}, fmt='g', linewidths=.5)"
   ]
  },
  {
   "cell_type": "markdown",
   "metadata": {},
   "source": [
    "#### Random Search AvgWord2Vec"
   ]
  },
  {
   "cell_type": "code",
   "execution_count": 77,
   "metadata": {},
   "outputs": [
    {
     "name": "stdout",
     "output_type": "stream",
     "text": [
      "Fitting 10 folds for each of 10 candidates, totalling 100 fits\n"
     ]
    },
    {
     "name": "stderr",
     "output_type": "stream",
     "text": [
      "[Parallel(n_jobs=1)]: Done 100 out of 100 | elapsed:  4.7min finished\n"
     ]
    },
    {
     "name": "stdout",
     "output_type": "stream",
     "text": [
      "Best HyperParameter:  {'penalty': 'l1', 'C': 1}\n",
      "Best Accuracy: 89.06%\n",
      "Wall time: 4min 55s\n"
     ]
    }
   ],
   "source": [
    "%%time\n",
    "lr = LogisticRegression()\n",
    "\n",
    "param_grid = {'C':[1000,500,100,50,10,5,1,0.5,0.1,0.05,0.01,0.005,0.001,0.0005,0.0001],'penalty':['l1','l2']} \n",
    "\n",
    "tscv = TimeSeriesSplit(n_splits=10) #For time based splitting\n",
    "gscv = RandomizedSearchCV(lr,param_grid,cv=tscv,verbose=1)\n",
    "gscv.fit(X_train_AvgWord2Vec_final,y_train)\n",
    "\n",
    "SaveToFile(gscv,\"LR-RandomSearch-AvgWord2Vec\")\n",
    "\n",
    "print(\"Best HyperParameter: \",gscv.best_params_)\n",
    "print(\"Best Accuracy: %.2f%%\"%(gscv.best_score_*100))"
   ]
  },
  {
   "cell_type": "code",
   "execution_count": 78,
   "metadata": {},
   "outputs": [
    {
     "name": "stdout",
     "output_type": "stream",
     "text": [
      "LogisticRegression(C=1, class_weight=None, dual=False, fit_intercept=True,\n",
      "          intercept_scaling=1, max_iter=100, multi_class='ovr', n_jobs=1,\n",
      "          penalty='l1', random_state=None, solver='liblinear', tol=0.0001,\n",
      "          verbose=0, warm_start=False)\n"
     ]
    }
   ],
   "source": [
    "print(gscv.best_estimator_)"
   ]
  },
  {
   "cell_type": "code",
   "execution_count": 81,
   "metadata": {},
   "outputs": [
    {
     "data": {
      "image/png": "[encoded data removed]",
      "text/plain": [
       "<Figure size 432x288 with 1 Axes>"
      ]
     },
     "metadata": {},
     "output_type": "display_data"
    }
   ],
   "source": [
    "gscv = OpenFromFile(\"LR-RandomSearch-AvgWord2Vec\")\n",
    "error_vs_c(gscv)"
   ]
  },
  {
   "cell_type": "code",
   "execution_count": 82,
   "metadata": {},
   "outputs": [
    {
     "name": "stdout",
     "output_type": "stream",
     "text": [
      "Accuracy on test set: 87.80%\n",
      "Precision on test set: 89.735\n",
      "Recall on test set: 96.515\n",
      "F1-Score on test set: 93.002\n",
      "Non Zero weights: 50\n"
     ]
    },
    {
     "data": {
      "text/plain": [
       "<matplotlib.axes._subplots.AxesSubplot at 0x24e1aaa4208>"
      ]
     },
     "execution_count": 82,
     "metadata": {},
     "output_type": "execute_result"
    },
    {
     "data": {
      "image/png": "[encoded data removed]",
      "text/plain": [
       "<Figure size 432x288 with 2 Axes>"
      ]
     },
     "metadata": {},
     "output_type": "display_data"
    }
   ],
   "source": [
    "#Testing Accuracy on Test data with best hyper parametrs\n",
    "from sklearn.linear_model import LogisticRegression\n",
    "\n",
    "lr = LogisticRegression(C= 1, penalty= 'l1')\n",
    "lr.fit(X_train_AvgWord2Vec_final,y_train)\n",
    "y_pred = lr.predict(X_test)\n",
    "print(\"Accuracy on test set: %0.2f%%\"%(accuracy_score(y_test, y_pred)*100))\n",
    "print(\"Precision on test set: %0.3f\"%(precision_score(y_test, y_pred, pos_label='positive')*100))\n",
    "print(\"Recall on test set: %0.3f\"%(recall_score(y_test, y_pred, pos_label='positive')*100))\n",
    "print(\"F1-Score on test set: %0.3f\"%(f1_score(y_test, y_pred, pos_label='positive')*100))\n",
    "print(\"Non Zero weights:\",np.count_nonzero(lr.coef_))\n",
    "df_cm = pd.DataFrame(confusion_matrix(y_test, y_pred), range(2),range(2))\n",
    "sns.set(font_scale=1.4)#for label size\n",
    "sns.heatmap(df_cm, annot=True,annot_kws={\"size\": 16}, fmt='g',linewidths=.5)"
   ]
  },
  {
   "cell_type": "markdown",
   "metadata": {},
   "source": [
    "### Perturbation Test"
   ]
  },
  {
   "cell_type": "code",
   "execution_count": 84,
   "metadata": {},
   "outputs": [
    {
     "name": "stdout",
     "output_type": "stream",
     "text": [
      "Accuracy on test set: 87.807%\n",
      "Non Zero weights: 50\n"
     ]
    }
   ],
   "source": [
    "lr = LogisticRegression(C= 5, penalty= 'l1')\n",
    "lr.fit(X_train_AvgWord2Vec_final,y_train)\n",
    "y_pred = lr.predict(X_test)\n",
    "print(\"Accuracy on test set: %0.3f%%\"%(accuracy_score(y_test, y_pred)*100))\n",
    "print(\"Non Zero weights:\",np.count_nonzero(lr.coef_))"
   ]
  },
  {
   "cell_type": "code",
   "execution_count": 85,
   "metadata": {},
   "outputs": [
    {
     "name": "stdout",
     "output_type": "stream",
     "text": [
      "15589\n"
     ]
    }
   ],
   "source": [
    "from scipy.sparse import find\n",
    "#Weights before adding random noise\n",
    "weights1 = find(lr.coef_[0])[2]\n",
    "#print(weights1[:50])\n",
    "print(len(weights2))"
   ]
  },
  {
   "cell_type": "code",
   "execution_count": 87,
   "metadata": {},
   "outputs": [],
   "source": [
    "X_train_t = X_train_AvgWord2Vec_final\n",
    "#Random noise\n",
    "epsilon = np.random.uniform(low=-0.01, high=0.01, size=(find(X_train_t)[0].size,))\n",
    "#Getting the postions(row and column) and value of non-zero datapoints \n",
    "a,b,c = find(X_train_t)\n",
    "\n",
    "#Introducing random noise to non-zero datapoints\n",
    "X_train_t[a,b] = epsilon + X_train_t[a,b]"
   ]
  },
  {
   "cell_type": "code",
   "execution_count": 88,
   "metadata": {},
   "outputs": [
    {
     "name": "stdout",
     "output_type": "stream",
     "text": [
      "Accuracy on test set: 87.793%\n",
      "Non Zero weights: 50\n"
     ]
    }
   ],
   "source": [
    "lr = LogisticRegression(C= 5, penalty= 'l1')\n",
    "lr.fit(X_train_t,y_train)\n",
    "y_pred = lr.predict(X_test)\n",
    "print(\"Accuracy on test set: %0.3f%%\"%(accuracy_score(y_test, y_pred)*100))\n",
    "print(\"Non Zero weights:\",np.count_nonzero(lr.coef_))"
   ]
  },
  {
   "cell_type": "code",
   "execution_count": 89,
   "metadata": {},
   "outputs": [
    {
     "name": "stdout",
     "output_type": "stream",
     "text": [
      "[-4.34900241  1.76867767  0.33333246  3.56636108  0.98012128  0.16709607\n",
      " -4.04869947  3.97330242 -4.61906939  0.40257605 -1.04850858 -0.90816507\n",
      "  0.38303954  0.5806754   1.38053741 -2.80995933  0.3570581   1.75204251\n",
      "  1.92276095  2.03041835  2.11604545 -0.68989182 -1.9768246  -0.15844519\n",
      " -0.64091827 -0.93381869 -1.40893477 -2.99523926 -4.38236244 -1.88402074\n",
      "  1.81451336 -3.87562687  2.22155458  1.22219157  0.58076664  0.35743328\n",
      " -0.54735218 -0.34273084 -1.86643012  1.26418634  0.67847357 -2.07620699\n",
      "  4.64500318 -0.39806912 -0.46781577 -0.11230673  4.39662317  0.11197016\n",
      "  0.88200796 -2.39472743]\n"
     ]
    }
   ],
   "source": [
    "weights2 = find(lr.coef_[0])[2]\n",
    "print(weights2)"
   ]
  },
  {
   "cell_type": "code",
   "execution_count": 90,
   "metadata": {},
   "outputs": [
    {
     "name": "stdout",
     "output_type": "stream",
     "text": [
      "1\n"
     ]
    }
   ],
   "source": [
    "weights_diff = (abs(weights2 - weights1)/weights1) * 100\n",
    "print(weights_diff[np.where(weights_diff > 30)].size)"
   ]
  },
  {
   "cell_type": "markdown",
   "metadata": {},
   "source": [
    "### We can see weightdiff is 1 , So its means theres is no multi Collinearity"
   ]
  },
  {
   "cell_type": "code",
   "execution_count": 91,
   "metadata": {},
   "outputs": [
    {
     "name": "stdout",
     "output_type": "stream",
     "text": [
      "\t\t\tPositive\t\t\t\t\t\tNegative\n",
      "________________________________________________________________________________________________\n",
      "\t-4.6191\taaaaaahhhhhyaaaaaa\t\t\t\t4.6450\taarrgghhhh     \n",
      "\t-4.3824\taaf            \t\t\t\t4.3966\tab             \n",
      "\t-4.3490\taaa            \t\t\t\t3.9733\taaaaaaarrrrrggghhh back\n",
      "\t-4.0487\taaaaaaarrrrrggghhh\t\t\t\t3.5664\taaa job        \n",
      "\t-3.8756\taafco approv   \t\t\t\t2.2216\taafco dog      \n",
      "\t-2.9952\taadp           \t\t\t\t2.1160\taaahhh sale    \n",
      "\t-2.8100\taaaah favorit  \t\t\t\t2.0304\taaahhh         \n",
      "\t-2.3947\tab one         \t\t\t\t1.9228\taaah tast      \n",
      "\t-2.0762\taah rest       \t\t\t\t1.8145\taafco          \n",
      "\t-1.9768\taaahhhhhh drink\t\t\t\t1.7687\taaa aaa        \n",
      "\t-1.8840\taaf hair       \t\t\t\t1.7520\taaah miss      \n",
      "\t-1.8664\taah coffe      \t\t\t\t1.3805\taaaah          \n",
      "\t-1.4089\taachen munich  \t\t\t\t1.2642\taah handsom    \n",
      "\t-1.0485\taaaaah         \t\t\t\t1.2222\taafco larg     \n",
      "\t-0.9338\taachen         \t\t\t\t0.9801\taaa spelt      \n",
      "\t-0.9082\taaaaah satisfi \t\t\t\t0.8820\tab fine        \n",
      "\t-0.6899\taaahhhhhh      \t\t\t\t0.6785\taah order      \n",
      "\t-0.6409\taabsolut love  \t\t\t\t0.5808\taafco requir   \n",
      "\t-0.5474\taafter luck    \t\t\t\t0.5807\taaaaahhhhhhhhhhhhhhhh angel\n",
      "\t-0.4678\taarthur        \t\t\t\t0.4026\taaaaaahhhhhyaaaaaa fire\n",
      "\t-0.3981\taarrgghhhh yorkiex\t\t\t\t0.3830\taaaaahhhhhhhhhhhhhhhh\n",
      "\t-0.3427\taah            \t\t\t\t0.3574\taafter         \n",
      "\t-0.1584\taabsolut       \t\t\t\t0.3571\taaah           \n",
      "\t-0.1123\taarthur whole  \t\t\t\t0.3333\taaa hockey     \n",
      "\t0.1120\tab diet        \t\t\t\t0.1671\taaaaaaaaagghh  \n"
     ]
    }
   ],
   "source": [
    "def show_most_informative_features(vectorizer, clf, n=25):\n",
    "    feature_names = vectorizer.get_feature_names()\n",
    "    coefs_with_fns = sorted(zip(clf.coef_[0], feature_names))\n",
    "    top = zip(coefs_with_fns[:n], coefs_with_fns[:-(n + 1):-1])\n",
    "    print(\"\\t\\t\\tPositive\\t\\t\\t\\t\\t\\tNegative\")\n",
    "    print(\"________________________________________________________________________________________________\")\n",
    "    for (coef_1, fn_1), (coef_2, fn_2) in top:\n",
    "        print(\"\\t%.4f\\t%-15s\\t\\t\\t\\t%.4f\\t%-15s\" % (coef_1, fn_1, coef_2, fn_2))\n",
    "        \n",
    "show_most_informative_features(tfidf,lr)\n",
    "#Code Reference:https://stackoverflow.com/questions/11116697/how-to-get-most-informative-features-for-scikit-learn-classifiers"
   ]
  },
  {
   "cell_type": "markdown",
   "metadata": {},
   "source": [
    "### Logistic Regression TF-IDF Word2Vec\n",
    "#### GridSearch"
   ]
  },
  {
   "cell_type": "code",
   "execution_count": 92,
   "metadata": {},
   "outputs": [],
   "source": [
    "# Train your own Word2Vec model using your own text corpus\n",
    "import gensim\n",
    "i=0\n",
    "list_of_sent=[]\n",
    "#final_20000 = final_50000.head(20000)\n",
    "for sent in final_150000['clean_text'].values:\n",
    "    filtered_sentence=[]\n",
    "    sent=cleanhtml(sent)\n",
    "    for w in sent.split():\n",
    "        for cleaned_words in cleanpunc(w).split():\n",
    "            if(cleaned_words.isalpha()):    \n",
    "                filtered_sentence.append(cleaned_words.lower())\n",
    "            else:\n",
    "                continue \n",
    "    list_of_sent.append(filtered_sentence)\n"
   ]
  },
  {
   "cell_type": "code",
   "execution_count": 93,
   "metadata": {},
   "outputs": [
    {
     "name": "stdout",
     "output_type": "stream",
     "text": [
      "150000\n",
      "50\n",
      "Wall time: 34.9 s\n"
     ]
    }
   ],
   "source": [
    "%%time\n",
    "# TF-IDF weighted Word2Vec\n",
    "tfidf_feat = tfidf.get_feature_names() # tfidf words/col-names\n",
    "# final_tf_idf is the sparse matrix with row= sentence, col=word and cell_val = tfidf\n",
    "\n",
    "tfidf_sent_vectors = []; # the tfidf-w2v for each sentence/review is stored in this list\n",
    "row=0;\n",
    "for sent in list_of_sent: # for each review/sentence\n",
    "    sent_vec = np.zeros(50) # as word vectors are of zero length\n",
    "    weight_sum =0; # num of words with a valid vector in the sentence/review\n",
    "    for word in sent: # for each word in a review/sentence\n",
    "        try:\n",
    "            vec = w2v_model.wv[word]\n",
    "            # obtain the tf_idfidf of a word in a sentence/review\n",
    "            tf_idf = X_train_tfidf[row, tfidf_feat.index(word)]\n",
    "            sent_vec += (vec * tf_idf)\n",
    "            weight_sum += tf_idf\n",
    "        except:\n",
    "            pass\n",
    "    sent_vec /= weight_sum\n",
    "    tfidf_sent_vectors.append(sent_vec)\n",
    "    row += 1\n",
    "print(len(tfidf_sent_vectors))\n",
    "print(len(tfidf_sent_vectors[0]))   "
   ]
  },
  {
   "cell_type": "code",
   "execution_count": 94,
   "metadata": {},
   "outputs": [
    {
     "data": {
      "text/plain": [
       "array([[     0,      0],\n",
       "       [     0,      1],\n",
       "       [     0,      2],\n",
       "       ...,\n",
       "       [149999,     47],\n",
       "       [149999,     48],\n",
       "       [149999,     49]], dtype=int64)"
      ]
     },
     "execution_count": 94,
     "metadata": {},
     "output_type": "execute_result"
    }
   ],
   "source": [
    "np.argwhere(np.isnan(tfidf_sent_vectors))#checking for NaN values"
   ]
  },
  {
   "cell_type": "code",
   "execution_count": 95,
   "metadata": {},
   "outputs": [],
   "source": [
    "#Not shuffling the data as we want it on time basis\n",
    "from sklearn.model_selection import train_test_split\n",
    "X_train, X_test, y_train, y_test = train_test_split(tfidf_sent_vectors,final_150000['Score'].values,\n",
    "                                                    test_size=0.3,shuffle=False)"
   ]
  },
  {
   "cell_type": "code",
   "execution_count": 96,
   "metadata": {},
   "outputs": [
    {
     "data": {
      "text/plain": [
       "array([[ True,  True,  True, ...,  True,  True,  True],\n",
       "       [ True,  True,  True, ...,  True,  True,  True],\n",
       "       [ True,  True,  True, ...,  True,  True,  True],\n",
       "       ...,\n",
       "       [ True,  True,  True, ...,  True,  True,  True],\n",
       "       [ True,  True,  True, ...,  True,  True,  True],\n",
       "       [ True,  True,  True, ...,  True,  True,  True]])"
      ]
     },
     "execution_count": 96,
     "metadata": {},
     "output_type": "execute_result"
    }
   ],
   "source": [
    "#resolving NaN issue\n",
    "X_train=np.isnan(X_train)#for solving NaN issue\n",
    "np.where(np.isnan(X_train))\n",
    "np.nan_to_num(X_train)\n",
    "X_test=np.isnan(X_test)\n",
    "np.where(np.isnan(X_test))\n",
    "np.nan_to_num(X_test)"
   ]
  },
  {
   "cell_type": "code",
   "execution_count": 97,
   "metadata": {},
   "outputs": [
    {
     "name": "stdout",
     "output_type": "stream",
     "text": [
      "[]\n",
      "[]\n",
      "We have Resolved the Nan Issue\n"
     ]
    }
   ],
   "source": [
    "print(np.argwhere(np.isnan(X_train)))#checking for NaN values\n",
    "print(np.argwhere(np.isnan(X_test)))#checking for NaN values\n",
    "print(\"We have Resolved the Nan Issue\")"
   ]
  },
  {
   "cell_type": "code",
   "execution_count": 98,
   "metadata": {},
   "outputs": [
    {
     "name": "stdout",
     "output_type": "stream",
     "text": [
      "Fitting 10 folds for each of 30 candidates, totalling 300 fits\n"
     ]
    },
    {
     "name": "stderr",
     "output_type": "stream",
     "text": [
      "[Parallel(n_jobs=1)]: Done 300 out of 300 | elapsed:  3.6min finished\n"
     ]
    },
    {
     "name": "stdout",
     "output_type": "stream",
     "text": [
      "Best HyperParameter:  {'C': 1000, 'penalty': 'l1'}\n",
      "Best Accuracy: 85.92%\n",
      "Wall time: 3min 39s\n"
     ]
    }
   ],
   "source": [
    "%%time\n",
    "lr = LogisticRegression()\n",
    "#params we need to try on classifier\n",
    "param_grid = {'C':[1000,500,100,50,10,5,1,0.5,0.1,0.05,0.01,0.005,0.001,0.0005,0.0001],'penalty':['l1','l2']} \n",
    "tscv = TimeSeriesSplit(n_splits=10) #For time based splitting\n",
    "gscv = GridSearchCV(lr,param_grid,cv=tscv,verbose=1)\n",
    "gscv.fit(X_train,y_train)\n",
    "SaveToFile(gscv,\"LR GridSearch TF_IDF-WORD2VEC\")\n",
    "print(\"Best HyperParameter: \",gscv.best_params_)\n",
    "print(\"Best Accuracy: %.2f%%\"%(gscv.best_score_*100))"
   ]
  },
  {
   "cell_type": "code",
   "execution_count": 99,
   "metadata": {},
   "outputs": [
    {
     "name": "stdout",
     "output_type": "stream",
     "text": [
      "LogisticRegression(C=1000, class_weight=None, dual=False, fit_intercept=True,\n",
      "          intercept_scaling=1, max_iter=100, multi_class='ovr', n_jobs=1,\n",
      "          penalty='l1', random_state=None, solver='liblinear', tol=0.0001,\n",
      "          verbose=0, warm_start=False)\n"
     ]
    }
   ],
   "source": [
    "print(gscv.best_estimator_)"
   ]
  },
  {
   "cell_type": "code",
   "execution_count": 100,
   "metadata": {},
   "outputs": [
    {
     "data": {
      "image/png": "[encoded data removed]",
      "text/plain": [
       "<Figure size 432x288 with 1 Axes>"
      ]
     },
     "metadata": {},
     "output_type": "display_data"
    }
   ],
   "source": [
    "gscv = OpenFromFile(\"LR GridSearch TF_IDF-WORD2VEC\")\n",
    "error_vs_c(gscv)"
   ]
  },
  {
   "cell_type": "code",
   "execution_count": 104,
   "metadata": {},
   "outputs": [
    {
     "name": "stdout",
     "output_type": "stream",
     "text": [
      "Accuracy on test set: 83.98%\n",
      "Precision on test set: 83.976\n",
      "Recall on test set: 100.000\n",
      "F1-Score on test set: 91.290\n",
      "Non Zero weights: 4\n"
     ]
    },
    {
     "data": {
      "text/plain": [
       "<matplotlib.axes._subplots.AxesSubplot at 0x24e8ee88198>"
      ]
     },
     "execution_count": 104,
     "metadata": {},
     "output_type": "execute_result"
    },
    {
     "data": {
      "image/png": "[encoded data removed]",
      "text/plain": [
       "<Figure size 432x288 with 2 Axes>"
      ]
     },
     "metadata": {},
     "output_type": "display_data"
    }
   ],
   "source": [
    "lr = LogisticRegression(C= 1000, penalty= 'l1')\n",
    "lr.fit(X_train,y_train)\n",
    "y_pred = lr.predict(X_test)\n",
    "print(\"Accuracy on test set: %0.2f%%\"%(accuracy_score(y_test, y_pred)*100))\n",
    "print(\"Precision on test set: %0.3f\"%(precision_score(y_test, y_pred, pos_label='positive')*100))\n",
    "print(\"Recall on test set: %0.3f\"%(recall_score(y_test, y_pred, pos_label='positive')*100))\n",
    "print(\"F1-Score on test set: %0.3f\"%(f1_score(y_test, y_pred, pos_label='positive')*100))\n",
    "print(\"Non Zero weights:\",np.count_nonzero(lr.coef_))\n",
    "df_cm = pd.DataFrame(confusion_matrix(y_test, y_pred), range(2),range(2))\n",
    "sns.set(font_scale=1.4)#for label size\n",
    "sns.heatmap(df_cm, annot=True,annot_kws={\"size\": 16}, fmt='g',linewidths=.5)"
   ]
  },
  {
   "cell_type": "markdown",
   "metadata": {},
   "source": [
    "#### RandomizedSearchCV"
   ]
  },
  {
   "cell_type": "code",
   "execution_count": 101,
   "metadata": {},
   "outputs": [
    {
     "name": "stdout",
     "output_type": "stream",
     "text": [
      "Fitting 10 folds for each of 10 candidates, totalling 100 fits\n"
     ]
    },
    {
     "name": "stderr",
     "output_type": "stream",
     "text": [
      "[Parallel(n_jobs=1)]: Done 100 out of 100 | elapsed:  1.3min finished\n"
     ]
    },
    {
     "name": "stdout",
     "output_type": "stream",
     "text": [
      "Best HyperParameter:  {'penalty': 'l2', 'C': 10}\n",
      "Best Accuracy: 85.92%\n",
      "Wall time: 1min 19s\n"
     ]
    }
   ],
   "source": [
    "%%time\n",
    "lr = LogisticRegression()\n",
    "#params we need to try on classifier\n",
    "param_grid = {'C':[1000,500,100,50,10,5,1,0.5,0.1,0.05,0.01,0.005,0.001,0.0005,0.0001],'penalty':['l1','l2']} \n",
    "tscv = TimeSeriesSplit(n_splits=10) #For time based splitting\n",
    "gscv = RandomizedSearchCV(lr,param_grid,cv=tscv,verbose=1)\n",
    "gscv.fit(X_train,y_train)\n",
    "SaveToFile(gscv,\"LR RandomSearch TF_IDF-WORD2VEC\")\n",
    "print(\"Best HyperParameter: \",gscv.best_params_)\n",
    "print(\"Best Accuracy: %.2f%%\"%(gscv.best_score_*100))"
   ]
  },
  {
   "cell_type": "code",
   "execution_count": 102,
   "metadata": {},
   "outputs": [
    {
     "name": "stdout",
     "output_type": "stream",
     "text": [
      "LogisticRegression(C=10, class_weight=None, dual=False, fit_intercept=True,\n",
      "          intercept_scaling=1, max_iter=100, multi_class='ovr', n_jobs=1,\n",
      "          penalty='l2', random_state=None, solver='liblinear', tol=0.0001,\n",
      "          verbose=0, warm_start=False)\n"
     ]
    }
   ],
   "source": [
    "print(gscv.best_estimator_)"
   ]
  },
  {
   "cell_type": "code",
   "execution_count": 103,
   "metadata": {},
   "outputs": [
    {
     "data": {
      "image/png": "[encoded data removed]",
      "text/plain": [
       "<Figure size 432x288 with 1 Axes>"
      ]
     },
     "metadata": {},
     "output_type": "display_data"
    }
   ],
   "source": [
    "gscv = OpenFromFile(\"LR RandomSearch TF_IDF-WORD2VEC\")\n",
    "error_vs_c(gscv)"
   ]
  },
  {
   "cell_type": "code",
   "execution_count": 105,
   "metadata": {},
   "outputs": [
    {
     "name": "stdout",
     "output_type": "stream",
     "text": [
      "Accuracy on test set: 83.98%\n",
      "Precision on test set: 83.976\n",
      "Recall on test set: 100.000\n",
      "F1-Score on test set: 91.290\n",
      "Non Zero weights: 50\n"
     ]
    },
    {
     "data": {
      "text/plain": [
       "<matplotlib.axes._subplots.AxesSubplot at 0x24e8d53e748>"
      ]
     },
     "execution_count": 105,
     "metadata": {},
     "output_type": "execute_result"
    },
    {
     "data": {
      "image/png": "[encoded data removed]",
      "text/plain": [
       "<Figure size 432x288 with 2 Axes>"
      ]
     },
     "metadata": {},
     "output_type": "display_data"
    }
   ],
   "source": [
    "lr = LogisticRegression(C= 10, penalty= 'l2')\n",
    "lr.fit(X_train,y_train)\n",
    "y_pred = lr.predict(X_test)\n",
    "print(\"Accuracy on test set: %0.2f%%\"%(accuracy_score(y_test, y_pred)*100))\n",
    "print(\"Precision on test set: %0.3f\"%(precision_score(y_test, y_pred, pos_label='positive')*100))\n",
    "print(\"Recall on test set: %0.3f\"%(recall_score(y_test, y_pred, pos_label='positive')*100))\n",
    "print(\"F1-Score on test set: %0.3f\"%(f1_score(y_test, y_pred, pos_label='positive')*100))\n",
    "print(\"Non Zero weights:\",np.count_nonzero(lr.coef_))\n",
    "df_cm = pd.DataFrame(confusion_matrix(y_test, y_pred), range(2),range(2))\n",
    "sns.set(font_scale=1.4)#for label size\n",
    "sns.heatmap(df_cm, annot=True,annot_kws={\"size\": 16}, fmt='g',linewidths=.5)"
   ]
  },
  {
   "cell_type": "markdown",
   "metadata": {},
   "source": [
    "### Perturbation Test"
   ]
  },
  {
   "cell_type": "code",
   "execution_count": 119,
   "metadata": {},
   "outputs": [
    {
     "name": "stdout",
     "output_type": "stream",
     "text": [
      "Accuracy on test set: 83.976%\n",
      "Non Zero weights: 5\n"
     ]
    }
   ],
   "source": [
    "lr = LogisticRegression(C= 100, penalty= 'l1')\n",
    "lr.fit(X_train,y_train)\n",
    "y_pred = lr.predict(X_test)\n",
    "print(\"Accuracy on test set: %0.3f%%\"%(accuracy_score(y_test, y_pred)*100))\n",
    "print(\"Non Zero weights:\",np.count_nonzero(lr.coef_))"
   ]
  },
  {
   "cell_type": "code",
   "execution_count": 120,
   "metadata": {},
   "outputs": [
    {
     "name": "stdout",
     "output_type": "stream",
     "text": [
      "[3.41568429e-01 4.44866533e-02 7.25809153e-04 1.16931923e-12\n",
      " 1.45051390e+00]\n"
     ]
    }
   ],
   "source": [
    "weights1 = find(lr.coef_[0])[2]\n",
    "print(weights1[:50])"
   ]
  },
  {
   "cell_type": "code",
   "execution_count": 121,
   "metadata": {},
   "outputs": [],
   "source": [
    "X_train_t = X_train\n",
    "#Random noise\n",
    "epsilon = np.random.uniform(low=-0.01, high=0.01, size=(find(X_train_t)[0].size,))\n",
    "#Getting the postions(row and column) and value of non-zero datapoints \n",
    "a,b,c = find(X_train_t)\n",
    "\n",
    "#Introducing random noise to non-zero datapoints\n",
    "X_train_t[a,b] = epsilon + X_train_t[a,b]"
   ]
  },
  {
   "cell_type": "code",
   "execution_count": 122,
   "metadata": {},
   "outputs": [
    {
     "name": "stdout",
     "output_type": "stream",
     "text": [
      "Accuracy on test set: 83.976%\n",
      "Non Zero weights: 5\n"
     ]
    }
   ],
   "source": [
    "lr = LogisticRegression(C= 100, penalty= 'l1')\n",
    "lr.fit(X_train_t,y_train)\n",
    "y_pred = lr.predict(X_test)\n",
    "print(\"Accuracy on test set: %0.3f%%\"%(accuracy_score(y_test, y_pred)*100))\n",
    "print(\"Non Zero weights:\",np.count_nonzero(lr.coef_))"
   ]
  },
  {
   "cell_type": "code",
   "execution_count": 123,
   "metadata": {},
   "outputs": [
    {
     "name": "stdout",
     "output_type": "stream",
     "text": [
      "[3.41568429e-01 1.45051390e+00 7.25809153e-04 1.16931923e-12\n",
      " 4.44866533e-02]\n"
     ]
    }
   ],
   "source": [
    "weights2 = find(lr.coef_[0])[2]\n",
    "print(weights2[:50])"
   ]
  },
  {
   "cell_type": "code",
   "execution_count": 124,
   "metadata": {},
   "outputs": [],
   "source": [
    "weights_diff = (abs(weights2 - weights1)/weights1) * 100"
   ]
  },
  {
   "cell_type": "code",
   "execution_count": 125,
   "metadata": {},
   "outputs": [
    {
     "name": "stdout",
     "output_type": "stream",
     "text": [
      "2\n"
     ]
    }
   ],
   "source": [
    " print(weights_diff[np.where(weights_diff > 30)].size)"
   ]
  },
  {
   "cell_type": "markdown",
   "metadata": {},
   "source": [
    "#### We can see weightdiff is 2 , So its means theres is no multi Collinearity"
   ]
  },
  {
   "cell_type": "code",
   "execution_count": 126,
   "metadata": {},
   "outputs": [
    {
     "name": "stdout",
     "output_type": "stream",
     "text": [
      "\t\t\tPositive\t\t\t\t\t\tNegative\n",
      "________________________________________________________________________________________________\n",
      "\t0.0000\taaa            \t\t\t\t1.4505\taaahhh sale    \n",
      "\t0.0000\taaa aaa        \t\t\t\t0.3416\taaaaaahhhhhyaaaaaa fire\n",
      "\t0.0000\taaa hockey     \t\t\t\t0.0445\taarthur whole  \n",
      "\t0.0000\taaa job        \t\t\t\t0.0007\taafco          \n",
      "\t0.0000\taaa spelt      \t\t\t\t0.0000\taah            \n",
      "\t0.0000\taaaaaaaaagghh  \t\t\t\t0.0000\tab one         \n",
      "\t0.0000\taaaaaaarrrrrggghhh\t\t\t\t0.0000\tab fine        \n",
      "\t0.0000\taaaaaaarrrrrggghhh back\t\t\t\t0.0000\tab diet        \n",
      "\t0.0000\taaaaaahhhhhyaaaaaa\t\t\t\t0.0000\tab             \n",
      "\t0.0000\taaaaah         \t\t\t\t0.0000\taarthur        \n",
      "\t0.0000\taaaaah satisfi \t\t\t\t0.0000\taarrgghhhh yorkiex\n",
      "\t0.0000\taaaaahhhhhhhhhhhhhhhh\t\t\t\t0.0000\taarrgghhhh     \n",
      "\t0.0000\taaaaahhhhhhhhhhhhhhhh angel\t\t\t\t0.0000\taah rest       \n",
      "\t0.0000\taaaah          \t\t\t\t0.0000\taah order      \n",
      "\t0.0000\taaaah favorit  \t\t\t\t0.0000\taah handsom    \n",
      "\t0.0000\taaah           \t\t\t\t0.0000\taah coffe      \n",
      "\t0.0000\taaah miss      \t\t\t\t0.0000\taafter luck    \n",
      "\t0.0000\taaah tast      \t\t\t\t0.0000\taafter         \n",
      "\t0.0000\taaahhh         \t\t\t\t0.0000\taafco requir   \n",
      "\t0.0000\taaahhhhhh      \t\t\t\t0.0000\taafco larg     \n",
      "\t0.0000\taaahhhhhh drink\t\t\t\t0.0000\taafco dog      \n",
      "\t0.0000\taabsolut       \t\t\t\t0.0000\taafco approv   \n",
      "\t0.0000\taabsolut love  \t\t\t\t0.0000\taaf hair       \n",
      "\t0.0000\taachen         \t\t\t\t0.0000\taaf            \n",
      "\t0.0000\taachen munich  \t\t\t\t0.0000\taadp           \n"
     ]
    }
   ],
   "source": [
    "def show_most_informative_features(vectorizer, clf, n=25):\n",
    "    feature_names = vectorizer.get_feature_names()\n",
    "    coefs_with_fns = sorted(zip(clf.coef_[0], feature_names))\n",
    "    top = zip(coefs_with_fns[:n], coefs_with_fns[:-(n + 1):-1])\n",
    "    print(\"\\t\\t\\tPositive\\t\\t\\t\\t\\t\\tNegative\")\n",
    "    print(\"________________________________________________________________________________________________\")\n",
    "    for (coef_1, fn_1), (coef_2, fn_2) in top:\n",
    "        print(\"\\t%.4f\\t%-15s\\t\\t\\t\\t%.4f\\t%-15s\" % (coef_1, fn_1, coef_2, fn_2))\n",
    "        \n",
    "show_most_informative_features(tfidf,lr)\n",
    "#Code Reference:https://stackoverflow.com/questions/11116697/how-to-get-most-informative-features-for-scikit-learn-classifiers"
   ]
  },
  {
   "cell_type": "markdown",
   "metadata": {},
   "source": [
    "### Analysis of Logistic Regression Model on 150k data points"
   ]
  },
  {
   "cell_type": "markdown",
   "metadata": {},
   "source": [
    "| Feature | Algoritms      | Accuracy | Precision | Recall|F1- Scores |Best Value for C| Penalty    |\n",
    "| ------- | ---------      | -------- | --------- | ------|-----------|--------------- |------------|\n",
    "| BOW     | GridSearchCV   | 90.31    | 92.183    | 96.671|94.376     |  C=10          | penalty='l2'|\n",
    "| BOW     | RandomSearchCV | 90.30    | 92.173    | 96.663|94.365     |  C=10          | penalty='l2'|\n",
    "|TF-IDF   |GridSearchCV    |91.02     | 93.320    | 96.197|94.737     |  C=5           | penalty='l1'|\n",
    "|TF-IDF   |RandomSearchCV  |90.84     | 93.138    | 96.181|94.635     |  C=5           | penalty='l1'|\n",
    "|Word2Vec |GridSearchCV    |87.80     | 89.735    | 96.515|93.002     |  C=1           | penalty='l1'|\n",
    "|Word2Vec |RandomSearchCV  |87.80     | 89.735    | 96.515|93.002     |  C=1           | penalty='l1'|\n",
    "|TFIDF W2V|GridSearchCV    |83.98     | 83.976    | 100   |91.290     |  C=1000        | penalty='l1'|\n",
    "|TFIDF W2V|RandomSearchCV  |83.98     | 83.976    | 100   |91.290     |  C=10          | penalty='l2'|\n"
   ]
  },
  {
   "cell_type": "markdown",
   "metadata": {},
   "source": [
    "### Observation\n",
    "    - We did Bow,tf-idf,AvgWord2vec,and tfidf-word2vec on data points.\n",
    "    - TF-IDF using GridSearch has highest accuracy among all of them.\n",
    "    - We see that when C decreases (or lambda increases) the sparsity increases drastically,\n",
    "      that mean L1 regularizer increase the sparsity in Logistic Regression.\n",
    "    - Multicolinearity is exits in this model."
   ]
  },
  {
   "cell_type": "code",
   "execution_count": null,
   "metadata": {},
   "outputs": [],
   "source": []
  }
 ],
 "metadata": {
  "kernelspec": {
   "display_name": "Python 3",
   "language": "python",
   "name": "python3"
  },
  "language_info": {
   "codemirror_mode": {
    "name": "ipython",
    "version": 3
   },
   "file_extension": ".py",
   "mimetype": "text/x-python",
   "name": "python",
   "nbconvert_exporter": "python",
   "pygments_lexer": "ipython3",
   "version": "3.6.5"
  }
 },
 "nbformat": 4,
 "nbformat_minor": 2
}
